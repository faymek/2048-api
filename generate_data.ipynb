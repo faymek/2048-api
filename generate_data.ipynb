{
 "cells": [
  {
   "cell_type": "code",
   "execution_count": 1,
   "metadata": {},
   "outputs": [],
   "source": [
    "from game2048.game import Game\n",
    "from game2048.displays import Display, IPythonDisplay\n",
    "from game2048.agents import Agent, RandomAgent, ExpectiMaxAgent\n",
    "# from game2048.displayer import Displayer\n",
    "display1 = Display()\n",
    "display2 = IPythonDisplay()"
   ]
  },
  {
   "cell_type": "code",
   "execution_count": 2,
   "metadata": {},
   "outputs": [],
   "source": [
    "import numpy as np\n",
    "import datetime\n",
    "import csv\n",
    "import math\n",
    "\n",
    "class DataAgent(ExpectiMaxAgent):\n",
    "    def auto_log(self, data_dir=\"./data/\", max_iter=np.inf):\n",
    "        filename = data_dir + datetime.datetime.now().strftime('%y%m%d_%H%M%S_%f') + \".csv\"\n",
    "        print(\"文件保存到：\",filename,end='\\t')\n",
    "        with open(filename,\"w\") as csvfile: \n",
    "            writer = csv.writer(csvfile)\n",
    "            n_iter = 0\n",
    "            while (n_iter < max_iter) and (not self.game.end):\n",
    "                direction = self.step()\n",
    "                bd = list(self.game.board.flatten())\n",
    "                bd = [int(s) for s in bd]\n",
    "                bd = [int(math.log(i,2)) if i>0 else i for i in bd]\n",
    "                bd.append(direction)\n",
    "                writer.writerow(bd)\n",
    "                self.game.move(direction)\n",
    "                n_iter += 1\n",
    "        print(\"数据量：\",n_iter)\n",
    "        "
   ]
  },
  {
   "cell_type": "code",
   "execution_count": 3,
   "metadata": {},
   "outputs": [
    {
     "name": "stdout",
     "output_type": "stream",
     "text": [
      "Loaded expectmax lib for 2048: /home/faymek/code/2048-api/game2048/expectimax/bin/2048.so\n",
      "#0\t 文件保存到： ./data/181211_211358_838821.csv\t数据量： 705\n",
      "#1\t 文件保存到： ./data/181211_211415_785905.csv\t数据量： 694\n",
      "#2\t 文件保存到： ./data/181211_211435_098388.csv\t数据量： 711\n",
      "#3\t 文件保存到： ./data/181211_211454_595457.csv\t数据量： 692\n",
      "#4\t 文件保存到： ./data/181211_211510_667709.csv\t数据量： 702\n",
      "#5\t 文件保存到： ./data/181211_211527_584813.csv\t数据量： 697\n",
      "#6\t 文件保存到： ./data/181211_211544_556857.csv\t数据量： 687\n",
      "#7\t 文件保存到： ./data/181211_211603_543663.csv\t数据量： 701\n",
      "#8\t 文件保存到： ./data/181211_211623_341964.csv\t数据量： 711\n",
      "#9\t 文件保存到： ./data/181211_211641_348629.csv\t数据量： 706\n"
     ]
    }
   ],
   "source": [
    "# 生成数据，一局一个csv文件，无header无index，每行数据为 [log2后的棋盘, 下一步的方向]\n",
    "for i in range(10):\n",
    "    game = Game(4, score_to_win=2048, random=False)\n",
    "    agent = DataAgent(game, display=display2)\n",
    "    print(\"#%d\\t\"%i,end=' ')\n",
    "    agent.auto_log()"
   ]
  },
  {
   "cell_type": "code",
   "execution_count": null,
   "metadata": {},
   "outputs": [],
   "source": []
  },
  {
   "cell_type": "code",
   "execution_count": 4,
   "metadata": {},
   "outputs": [
    {
     "name": "stdout",
     "output_type": "stream",
     "text": [
      "文件保存到： ./all_20_181211_212139.csv\n"
     ]
    }
   ],
   "source": [
    "#聚合path下所有csv\n",
    "# 有时候可能目录下会有.ipynb_checkpoints，请手动删除\n",
    "import os\n",
    "path = './data/'\n",
    "files = os.listdir(path)\n",
    "outputfile = \"./\" + \"all_%d_%s.csv\"%(len(files),datetime.datetime.now().strftime('%y%m%d_%H%M%S'))\n",
    "print(\"文件保存到：\", outputfile)  # 文件默认不保存到data目录\n",
    "\n",
    "target = open(outputfile,\"w\")\n",
    "writer = csv.writer(target)\n",
    "for file in files: \n",
    "    with open(path+file, \"r\") as f:\n",
    "        for line in f:\n",
    "            target.write(line)\n",
    "target.close()"
   ]
  },
  {
   "cell_type": "code",
   "execution_count": null,
   "metadata": {},
   "outputs": [],
   "source": []
  }
 ],
 "metadata": {
  "kernelspec": {
   "display_name": "Python 3",
   "language": "python",
   "name": "python3"
  },
  "language_info": {
   "codemirror_mode": {
    "name": "ipython",
    "version": 3
   },
   "file_extension": ".py",
   "mimetype": "text/x-python",
   "name": "python",
   "nbconvert_exporter": "python",
   "pygments_lexer": "ipython3",
   "version": "3.6.2"
  }
 },
 "nbformat": 4,
 "nbformat_minor": 2
}
