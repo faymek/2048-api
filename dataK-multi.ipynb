{
 "cells": [
  {
   "cell_type": "code",
   "execution_count": 5,
   "metadata": {},
   "outputs": [],
   "source": [
    "from game2048.game import Game\n",
    "from game2048.displays import Display, IPythonDisplay\n",
    "from game2048.agents import Agent, RandomAgent, ExpectiMaxAgent"
   ]
  },
  {
   "cell_type": "code",
   "execution_count": 6,
   "metadata": {},
   "outputs": [],
   "source": [
    "import numpy as np\n",
    "import datetime\n",
    "import csv\n",
    "import random\n",
    "\n",
    "map_table = {2**i : i for i in range(1,16)}\n",
    "map_table[0] = 0\n",
    "\n",
    "class BigDataAgent(ExpectiMaxAgent):\n",
    "    def auto_log(self, data_dir=\"./data/\", max_iter=1000, acc=1):\n",
    "        filename = data_dir + datetime.datetime.now().strftime('%y%m%d_%H%M%S_%f') + \".csv\"\n",
    "        print(\"文件保存到：\",filename)\n",
    "        acc_th = (4*acc-1)/3  # 模拟当前正确率\n",
    "        with open(filename,\"w\") as csvfile: \n",
    "            writer = csv.writer(csvfile)\n",
    "            n_iter = 0\n",
    "            n_run = 0\n",
    "            while (n_iter < max_iter):\n",
    "                if self.game.end:\n",
    "                    n_run += 1\n",
    "                    #print(\"局数：\",n_run,\"目前数据量：\",n_iter)\n",
    "                    self.game = Game(4, score_to_win=2048, random=False)\n",
    "                direction = self.step()\n",
    "                bd = list(self.game.board.flatten())\n",
    "                bd = [int(s) for s in bd]\n",
    "                bd = [map_table[i] for i in bd]\n",
    "                bd.append(direction)\n",
    "                writer.writerow(bd)\n",
    "                \n",
    "                # 模拟当前正确率 0.72 = x + (1-x)/4 => x = 0.63\n",
    "                if(random.random()>acc_th):\n",
    "                    direction = random.randrange(4)\n",
    "                self.game.move(direction)\n",
    "                n_iter += 1\n",
    "        print(\"数据量：\",n_iter)\n"
   ]
  },
  {
   "cell_type": "code",
   "execution_count": 11,
   "metadata": {},
   "outputs": [],
   "source": [
    "THREAD_NUM = 4\n",
    "LOGFILE_NUM = 3\n",
    "LOGFILE_STEP = 1000000\n",
    "AGENT_ACC = 0.6\n",
    "SCORE = 2048\n",
    "\n",
    "import os\n",
    "if not os.path.exists(\"./multi/\"):\n",
    "    os.mkdir(\"./multi/\")\n",
    "for i in range(THREAD_NUM):\n",
    "    path = \"./multi/data%d/\"%i\n",
    "    if not os.path.exists(path):\n",
    "        os.mkdir(path)"
   ]
  },
  {
   "cell_type": "code",
   "execution_count": 12,
   "metadata": {},
   "outputs": [],
   "source": [
    "def gen(data_dir = \"./multi/data\", number = 10):\n",
    "    game = Game(4, score_to_win=SCORE, random=False)\n",
    "    agent = BigDataAgent(game, display=None)\n",
    "    for i in range(number): \n",
    "        agent.auto_log(data_dir=data_dir,max_iter=LOGFILE_STEP, acc=AGENT_ACC)"
   ]
  },
  {
   "cell_type": "code",
   "execution_count": 13,
   "metadata": {},
   "outputs": [
    {
     "name": "stdout",
     "output_type": "stream",
     "text": [
      "文件保存到：文件保存到：文件保存到：文件保存到：    ./multi/data0/181217_101136_000351.csv./multi/data3/181217_101136_001485.csv./multi/data1/181217_101135_997853.csv./multi/data2/181217_101135_998143.csv\n",
      "\n",
      "\n",
      "\n",
      "数据量： 100\n",
      "文件保存到： ./multi/data2/181217_101136_781723.csv\n",
      "数据量： 100\n",
      "文件保存到： ./multi/data1/181217_101136_830743.csv\n",
      "数据量： 100\n",
      "文件保存到： ./multi/data3/181217_101136_868809.csv\n",
      "数据量： 100\n",
      "文件保存到： ./multi/data0/181217_101137_127982.csv\n",
      "数据量： 100\n",
      "文件保存到： ./multi/data2/181217_101139_173207.csv\n",
      "数据量： 100\n",
      "文件保存到： ./multi/data1/181217_101139_217690.csv\n",
      "数据量： 100\n",
      "文件保存到： ./multi/data0/181217_101139_348320.csv\n",
      "数据量： 100\n",
      "文件保存到： ./multi/data3/181217_101139_384197.csv\n",
      "数据量： 100\n",
      "数据量： 100\n",
      "数据量： 100\n",
      "数据量： 100\n"
     ]
    }
   ],
   "source": [
    "import _thread\n",
    "for i in range(THREAD_NUM):\n",
    "    _thread.start_new_thread( gen, (\"./multi/data%d/\"%i, LOGFILE_NUM) )"
   ]
  },
  {
   "cell_type": "code",
   "execution_count": null,
   "metadata": {},
   "outputs": [],
   "source": []
  },
  {
   "cell_type": "code",
   "execution_count": null,
   "metadata": {},
   "outputs": [],
   "source": []
  },
  {
   "cell_type": "code",
   "execution_count": null,
   "metadata": {},
   "outputs": [],
   "source": []
  },
  {
   "cell_type": "code",
   "execution_count": 6,
   "metadata": {
    "collapsed": true
   },
   "outputs": [],
   "source": [
    "#聚合path下所有csv\n",
    "# 有时候可能目录下会有.ipynb_checkpoints，请手动删除\n",
    "import os\n",
    "import datetime\n",
    "\n",
    "path = './data/'\n",
    "files = os.listdir(path)\n",
    "outputfile = \"./\" + \"all_%d_%s.csv\"%(len(files),datetime.datetime.now().strftime('%y%m%d_%H%M%S'))\n",
    "print(\"文件保存到：\", outputfile)  # 文件默认不保存到data目录\n",
    "\n",
    "target = open(outputfile,\"w\")\n",
    "for file in files: \n",
    "    with open(path+file, \"r\") as f:\n",
    "        for line in f:\n",
    "            target.write(line)\n",
    "target.close()"
   ]
  },
  {
   "cell_type": "code",
   "execution_count": null,
   "metadata": {},
   "outputs": [],
   "source": []
  }
 ],
 "metadata": {
  "kernelspec": {
   "display_name": "Python 3",
   "language": "python",
   "name": "python3"
  },
  "language_info": {
   "codemirror_mode": {
    "name": "ipython",
    "version": 3
   },
   "file_extension": ".py",
   "mimetype": "text/x-python",
   "name": "python",
   "nbconvert_exporter": "python",
   "pygments_lexer": "ipython3",
   "version": "3.6.6"
  }
 },
 "nbformat": 4,
 "nbformat_minor": 2
}
