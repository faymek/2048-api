{
 "cells": [
  {
   "cell_type": "code",
   "execution_count": 1,
   "metadata": {},
   "outputs": [],
   "source": [
    "from __future__ import division, print_function, absolute_import\n",
    "\n",
    "import tensorflow as tf\n",
    "import matplotlib.pyplot as plt\n",
    "import numpy as np\n",
    "import os"
   ]
  },
  {
   "cell_type": "code",
   "execution_count": 2,
   "metadata": {},
   "outputs": [],
   "source": [
    "data_raw = []\n",
    "with open(\"trainset2.csv\") as f:\n",
    "    for i in range(70000):\n",
    "        data_raw.append(eval(f.readline()))"
   ]
  },
  {
   "cell_type": "code",
   "execution_count": 3,
   "metadata": {},
   "outputs": [],
   "source": [
    "dataset = np.array(data_raw)\n",
    "images = dataset[:,:-1].astype(\"float32\")\n",
    "labels = dataset[:,-1].astype(\"uint8\")"
   ]
  },
  {
   "cell_type": "code",
   "execution_count": 4,
   "metadata": {},
   "outputs": [],
   "source": [
    "# Training Parameters\n",
    "learning_rate = 0.001\n",
    "num_steps = 10000\n",
    "batch_size = 128\n",
    "\n",
    "# Network Parameters\n",
    "num_input = 64 # MNIST data input (img shape: 28*28)\n",
    "num_classes = 4 # MNIST total classes (0-9 digits)\n",
    "dropout = 0.25 # Dropout, probability to drop a unit"
   ]
  },
  {
   "cell_type": "code",
   "execution_count": 14,
   "metadata": {
    "collapsed": true
   },
   "outputs": [],
   "source": [
    "# Create the neural network\n",
    "def conv_net(x_dict, n_classes, dropout, reuse, is_training):\n",
    "    \n",
    "    # Define a scope for reusing the variables\n",
    "    with tf.variable_scope('ConvNet', reuse=reuse):\n",
    "        # TF Estimator input is a dict, in case of multiple inputs\n",
    "        x = x_dict['images']\n",
    "\n",
    "        # MNIST data input is a 1-D vector of 784 features (28*28 pixels)\n",
    "        # Reshape to match picture format [Height x Width x Channel]\n",
    "        # Tensor input become 4-D: [Batch Size, Height, Width, Channel]\n",
    "        x = tf.reshape(x, shape=[-1, 8, 8, 1])\n",
    "\n",
    "        # Convolution Layer with 32 filters and a kernel size of 3\n",
    "        conv1 = tf.layers.conv2d(x, 32, 4, activation=tf.nn.relu)\n",
    "        # Max Pooling (down-sampling) with strides of 2 and kernel size of 2\n",
    "        #conv1 = tf.layers.max_pooling2d(conv1, 2, 2)\n",
    "\n",
    "        # Convolution Layer with 64 filters and a kernel size of 3\n",
    "        conv2 = tf.layers.conv2d(conv1, 64, 3, activation=tf.nn.relu)\n",
    "        # Max Pooling (down-sampling) with strides of 2 and kernel size of 2\n",
    "        #conv2 = tf.layers.max_pooling2d(conv2, 2, 2)\n",
    "\n",
    "        # Flatten the data to a 1-D vector for the fully connected layer\n",
    "        fc1 = tf.contrib.layers.flatten(conv2)\n",
    "\n",
    "        # Fully connected layer (in tf contrib folder for now)\n",
    "        fc1 = tf.layers.dense(fc1, 1024)\n",
    "        # Apply Dropout (if is_training is False, dropout is not applied)\n",
    "        fc1 = tf.layers.dropout(fc1, rate=dropout, training=is_training)\n",
    "\n",
    "        # Output layer, class prediction\n",
    "        out = tf.layers.dense(fc1, n_classes)\n",
    "\n",
    "    return out"
   ]
  },
  {
   "cell_type": "code",
   "execution_count": 15,
   "metadata": {
    "collapsed": true
   },
   "outputs": [],
   "source": [
    "# Define the model function (following TF Estimator Template)\n",
    "def model_fn(features, labels, mode):\n",
    "    \n",
    "    # Build the neural network\n",
    "    # Because Dropout have different behavior at training and prediction time, we\n",
    "    # need to create 2 distinct computation graphs that still share the same weights.\n",
    "    logits_train = conv_net(features, num_classes, dropout, reuse=False, is_training=True)\n",
    "    logits_test = conv_net(features, num_classes, dropout, reuse=True, is_training=False)\n",
    "    \n",
    "    # Predictions\n",
    "    pred_classes = tf.argmax(logits_test, axis=1)\n",
    "    pred_probas = tf.nn.softmax(logits_test)\n",
    "    \n",
    "    # If prediction mode, early return\n",
    "    if mode == tf.estimator.ModeKeys.PREDICT:\n",
    "        return tf.estimator.EstimatorSpec(mode, predictions=pred_classes) \n",
    "        \n",
    "    # Define loss and optimizer\n",
    "    loss_op = tf.reduce_mean(tf.nn.sparse_softmax_cross_entropy_with_logits(\n",
    "        logits=logits_train, labels=tf.cast(labels, dtype=tf.int32)))\n",
    "    optimizer = tf.train.AdamOptimizer(learning_rate=learning_rate)\n",
    "    train_op = optimizer.minimize(loss_op, global_step=tf.train.get_global_step())\n",
    "    \n",
    "    # Evaluate the accuracy of the model\n",
    "    acc_op = tf.metrics.accuracy(labels=labels, predictions=pred_classes)\n",
    "    \n",
    "    # TF Estimators requires to return a EstimatorSpec, that specify\n",
    "    # the different ops for training, evaluating, ...\n",
    "    estim_specs = tf.estimator.EstimatorSpec(\n",
    "      mode=mode,\n",
    "      predictions=pred_classes,\n",
    "      loss=loss_op,\n",
    "      train_op=train_op,\n",
    "      eval_metric_ops={'accuracy': acc_op})\n",
    "\n",
    "    return estim_specs"
   ]
  },
  {
   "cell_type": "code",
   "execution_count": 16,
   "metadata": {},
   "outputs": [
    {
     "name": "stdout",
     "output_type": "stream",
     "text": [
      "INFO:tensorflow:Using default config.\n",
      "INFO:tensorflow:Using config: {'_model_dir': './mymodels/model3', '_tf_random_seed': 1, '_save_summary_steps': 100, '_save_checkpoints_secs': 600, '_save_checkpoints_steps': None, '_session_config': None, '_keep_checkpoint_max': 5, '_keep_checkpoint_every_n_hours': 10000, '_log_step_count_steps': 100}\n"
     ]
    }
   ],
   "source": [
    "# Build the Estimator\n",
    "tf.logging.set_verbosity(tf.logging.INFO)\n",
    "model = tf.estimator.Estimator(model_fn=model_fn,model_dir=\"./mymodels/model3\")"
   ]
  },
  {
   "cell_type": "code",
   "execution_count": 33,
   "metadata": {},
   "outputs": [
    {
     "name": "stdout",
     "output_type": "stream",
     "text": [
      "INFO:tensorflow:Create CheckpointSaverHook.\n",
      "INFO:tensorflow:Restoring parameters from ./mymodels/model3/model.ckpt-30000\n",
      "INFO:tensorflow:Saving checkpoints for 30001 into ./mymodels/model3/model.ckpt.\n",
      "INFO:tensorflow:loss = 0.9111126, step = 30001\n",
      "INFO:tensorflow:global_step/sec: 46.1969\n",
      "INFO:tensorflow:loss = 0.81463295, step = 30101 (2.166 sec)\n",
      "INFO:tensorflow:global_step/sec: 45.9717\n",
      "INFO:tensorflow:loss = 0.9182801, step = 30201 (2.175 sec)\n",
      "INFO:tensorflow:global_step/sec: 46.2986\n",
      "INFO:tensorflow:loss = 0.8761561, step = 30301 (2.160 sec)\n",
      "INFO:tensorflow:global_step/sec: 46.0249\n",
      "INFO:tensorflow:loss = 0.8133836, step = 30401 (2.173 sec)\n",
      "INFO:tensorflow:global_step/sec: 46.1703\n",
      "INFO:tensorflow:loss = 0.8868187, step = 30501 (2.166 sec)\n",
      "INFO:tensorflow:global_step/sec: 46.1563\n",
      "INFO:tensorflow:loss = 0.98359877, step = 30601 (2.166 sec)\n",
      "INFO:tensorflow:global_step/sec: 46.4054\n",
      "INFO:tensorflow:loss = 0.79388845, step = 30701 (2.155 sec)\n",
      "INFO:tensorflow:global_step/sec: 43.0687\n",
      "INFO:tensorflow:loss = 0.8046915, step = 30801 (2.322 sec)\n",
      "INFO:tensorflow:global_step/sec: 43.1772\n",
      "INFO:tensorflow:loss = 0.79764897, step = 30901 (2.316 sec)\n",
      "INFO:tensorflow:global_step/sec: 46.7293\n",
      "INFO:tensorflow:loss = 0.871319, step = 31001 (2.140 sec)\n",
      "INFO:tensorflow:global_step/sec: 46.0261\n",
      "INFO:tensorflow:loss = 0.8141749, step = 31101 (2.173 sec)\n",
      "INFO:tensorflow:global_step/sec: 46.4545\n",
      "INFO:tensorflow:loss = 0.8330983, step = 31201 (2.153 sec)\n",
      "INFO:tensorflow:global_step/sec: 46.3049\n",
      "INFO:tensorflow:loss = 0.79652363, step = 31301 (2.160 sec)\n",
      "INFO:tensorflow:global_step/sec: 45.4336\n",
      "INFO:tensorflow:loss = 0.824574, step = 31401 (2.201 sec)\n",
      "INFO:tensorflow:global_step/sec: 46.3488\n",
      "INFO:tensorflow:loss = 0.7063797, step = 31501 (2.158 sec)\n",
      "INFO:tensorflow:global_step/sec: 45.8654\n",
      "INFO:tensorflow:loss = 0.8499219, step = 31601 (2.180 sec)\n",
      "INFO:tensorflow:global_step/sec: 46.2667\n",
      "INFO:tensorflow:loss = 0.8108213, step = 31701 (2.161 sec)\n",
      "INFO:tensorflow:global_step/sec: 46.3201\n",
      "INFO:tensorflow:loss = 0.9639065, step = 31801 (2.159 sec)\n",
      "INFO:tensorflow:global_step/sec: 46.0678\n",
      "INFO:tensorflow:loss = 0.80019784, step = 31901 (2.171 sec)\n",
      "INFO:tensorflow:global_step/sec: 45.4628\n",
      "INFO:tensorflow:loss = 0.8295417, step = 32001 (2.200 sec)\n",
      "INFO:tensorflow:global_step/sec: 44.7583\n",
      "INFO:tensorflow:loss = 0.7352934, step = 32101 (2.235 sec)\n",
      "INFO:tensorflow:global_step/sec: 43.7542\n",
      "INFO:tensorflow:loss = 0.8297778, step = 32201 (2.285 sec)\n",
      "INFO:tensorflow:global_step/sec: 46.0224\n",
      "INFO:tensorflow:loss = 0.8774389, step = 32301 (2.173 sec)\n",
      "INFO:tensorflow:global_step/sec: 45.531\n",
      "INFO:tensorflow:loss = 0.85483575, step = 32401 (2.196 sec)\n",
      "INFO:tensorflow:global_step/sec: 46.3266\n",
      "INFO:tensorflow:loss = 0.865905, step = 32501 (2.159 sec)\n",
      "INFO:tensorflow:global_step/sec: 46.1929\n",
      "INFO:tensorflow:loss = 0.8308267, step = 32601 (2.165 sec)\n",
      "INFO:tensorflow:global_step/sec: 45.8323\n",
      "INFO:tensorflow:loss = 0.74791557, step = 32701 (2.182 sec)\n",
      "INFO:tensorflow:global_step/sec: 45.9167\n",
      "INFO:tensorflow:loss = 0.92479515, step = 32801 (2.178 sec)\n",
      "INFO:tensorflow:global_step/sec: 45.9518\n",
      "INFO:tensorflow:loss = 0.7914788, step = 32901 (2.177 sec)\n",
      "INFO:tensorflow:global_step/sec: 46.5876\n",
      "INFO:tensorflow:loss = 0.83391607, step = 33001 (2.146 sec)\n",
      "INFO:tensorflow:global_step/sec: 46.7245\n",
      "INFO:tensorflow:loss = 0.89332753, step = 33101 (2.140 sec)\n",
      "INFO:tensorflow:global_step/sec: 46.1574\n",
      "INFO:tensorflow:loss = 0.8227185, step = 33201 (2.167 sec)\n",
      "INFO:tensorflow:global_step/sec: 46.1413\n",
      "INFO:tensorflow:loss = 0.8175781, step = 33301 (2.167 sec)\n",
      "INFO:tensorflow:global_step/sec: 46.412\n",
      "INFO:tensorflow:loss = 0.96902597, step = 33401 (2.155 sec)\n",
      "INFO:tensorflow:global_step/sec: 46.6979\n",
      "INFO:tensorflow:loss = 0.7714565, step = 33501 (2.141 sec)\n",
      "INFO:tensorflow:global_step/sec: 45.6538\n",
      "INFO:tensorflow:loss = 0.83014995, step = 33601 (2.190 sec)\n",
      "INFO:tensorflow:global_step/sec: 46.2873\n",
      "INFO:tensorflow:loss = 0.9395975, step = 33701 (2.161 sec)\n",
      "INFO:tensorflow:global_step/sec: 46.5609\n",
      "INFO:tensorflow:loss = 0.84747404, step = 33801 (2.148 sec)\n",
      "INFO:tensorflow:global_step/sec: 46.3728\n",
      "INFO:tensorflow:loss = 0.9062867, step = 33901 (2.157 sec)\n",
      "INFO:tensorflow:Saving checkpoints for 34000 into ./mymodels/model3/model.ckpt.\n",
      "INFO:tensorflow:Loss for final step: 0.7417532.\n"
     ]
    },
    {
     "data": {
      "text/plain": [
       "<tensorflow.python.estimator.estimator.Estimator at 0x7f8f847a2208>"
      ]
     },
     "execution_count": 33,
     "metadata": {},
     "output_type": "execute_result"
    }
   ],
   "source": [
    "# Define the input function for training\n",
    "input_fn = tf.estimator.inputs.numpy_input_fn(\n",
    "    x={'images': images}, y=labels,\n",
    "    batch_size=batch_size, num_epochs=None, shuffle=True)\n",
    "# Train the Model\n",
    "model.train(input_fn, steps=4000)"
   ]
  },
  {
   "cell_type": "code",
   "execution_count": 34,
   "metadata": {},
   "outputs": [
    {
     "name": "stdout",
     "output_type": "stream",
     "text": [
      "INFO:tensorflow:Starting evaluation at 2018-12-12-01:16:42\n",
      "INFO:tensorflow:Restoring parameters from ./mymodels/model3/model.ckpt-34000\n",
      "INFO:tensorflow:Finished evaluation at 2018-12-12-01:16:47\n",
      "INFO:tensorflow:Saving dict for global step 34000: accuracy = 0.59594285, global_step = 34000, loss = 0.9065399\n"
     ]
    },
    {
     "data": {
      "text/plain": [
       "{'accuracy': 0.59594285, 'global_step': 34000, 'loss': 0.9065399}"
      ]
     },
     "execution_count": 34,
     "metadata": {},
     "output_type": "execute_result"
    }
   ],
   "source": [
    "# Evaluate the Model\n",
    "# Define the input function for evaluating\n",
    "input_fn = tf.estimator.inputs.numpy_input_fn(\n",
    "    x={'images': images}, y=labels,\n",
    "    batch_size=batch_size, shuffle=False)\n",
    "# Use the Estimator 'evaluate' method\n",
    "model.evaluate(input_fn)"
   ]
  },
  {
   "cell_type": "code",
   "execution_count": 13,
   "metadata": {},
   "outputs": [
    {
     "name": "stdout",
     "output_type": "stream",
     "text": [
      "INFO:tensorflow:Restoring parameters from ./mymodels/model.ckpt-10287129\n"
     ]
    },
    {
     "data": {
      "image/png": "[encoded data removed]",
      "text/plain": [
       "<matplotlib.figure.Figure at 0x7f8f84432ef0>"
      ]
     },
     "metadata": {},
     "output_type": "display_data"
    },
    {
     "name": "stdout",
     "output_type": "stream",
     "text": [
      "Model prediction: 0\n"
     ]
    },
    {
     "data": {
      "image/png": "[encoded data removed]",
      "text/plain": [
       "<matplotlib.figure.Figure at 0x7f8f84a1f438>"
      ]
     },
     "metadata": {},
     "output_type": "display_data"
    },
    {
     "name": "stdout",
     "output_type": "stream",
     "text": [
      "Model prediction: 3\n"
     ]
    },
    {
     "data": {
      "image/png": "[encoded data removed]",
      "text/plain": [
       "<matplotlib.figure.Figure at 0x7f8f848d4908>"
      ]
     },
     "metadata": {},
     "output_type": "display_data"
    },
    {
     "name": "stdout",
     "output_type": "stream",
     "text": [
      "Model prediction: 0\n"
     ]
    },
    {
     "data": {
      "image/png": "[encoded data removed]",
      "text/plain": [
       "<matplotlib.figure.Figure at 0x7f8f848109e8>"
      ]
     },
     "metadata": {},
     "output_type": "display_data"
    },
    {
     "name": "stdout",
     "output_type": "stream",
     "text": [
      "Model prediction: 3\n"
     ]
    }
   ],
   "source": [
    "# Predict single images\n",
    "n_images = 4\n",
    "# Get images from test set\n",
    "test_images = images[1000:1000+n_images]\n",
    "# Prepare the input data\n",
    "input_fn = tf.estimator.inputs.numpy_input_fn(\n",
    "    x={'images': images}, shuffle=False)\n",
    "# Use the model to predict the images class\n",
    "preds = list(model.predict(input_fn))\n",
    "\n",
    "# Display\n",
    "for i in range(n_images):\n",
    "    plt.imshow(np.reshape(test_images[i], [8, 8]), cmap='gray')\n",
    "    plt.show()\n",
    "    print(\"Model prediction:\", preds[i])"
   ]
  },
  {
   "cell_type": "code",
   "execution_count": null,
   "metadata": {},
   "outputs": [],
   "source": []
  }
 ],
 "metadata": {
  "anaconda-cloud": {},
  "kernelspec": {
   "display_name": "Python 3",
   "language": "python",
   "name": "python3"
  },
  "language_info": {
   "codemirror_mode": {
    "name": "ipython",
    "version": 3
   },
   "file_extension": ".py",
   "mimetype": "text/x-python",
   "name": "python",
   "nbconvert_exporter": "python",
   "pygments_lexer": "ipython3",
   "version": "3.6.2"
  }
 },
 "nbformat": 4,
 "nbformat_minor": 2
}
