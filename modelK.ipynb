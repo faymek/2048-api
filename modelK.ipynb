{
 "cells": [
  {
   "cell_type": "markdown",
   "metadata": {},
   "source": [
    "# 2048 Keras"
   ]
  },
  {
   "cell_type": "code",
   "execution_count": 1,
   "metadata": {
    "collapsed": true
   },
   "outputs": [
    {
     "name": "stderr",
     "output_type": "stream",
     "text": [
      "Using TensorFlow backend.\n"
     ]
    }
   ],
   "source": [
    "import keras\n",
    "from keras.models import Sequential, Model\n",
    "from keras.layers import Dense, Dropout, Flatten, Conv2D, MaxPooling2D, Input, concatenate, BatchNormalization, Activation\n",
    "from keras.optimizers import Adadelta\n",
    "import numpy as np\n",
    "\n",
    "BATCH_SIZE = 128\n",
    "NUM_EPOCHS = 15"
   ]
  },
  {
   "cell_type": "code",
   "execution_count": 2,
   "metadata": {},
   "outputs": [],
   "source": [
    "OUT_SHAPE = (4,4)\n",
    "CAND = 16\n",
    "map_table = {2**i : i for i in range(1,CAND)}\n",
    "map_table[0] = 0\n",
    "vmap = np.vectorize(lambda x: map_table[x])\n",
    "\n",
    "def grid_one(arr):\n",
    "    ret = np.zeros(shape=OUT_SHAPE+(CAND,),dtype=bool)  # shape = (4,4,16)\n",
    "    for r in range(OUT_SHAPE[0]):\n",
    "        for c in range(OUT_SHAPE[1]):\n",
    "            ret[r,c,arr[r,c]] = 1\n",
    "    return ret"
   ]
  },
  {
   "cell_type": "code",
   "execution_count": null,
   "metadata": {},
   "outputs": [],
   "source": [
    "import csv\n",
    "data = []\n",
    "with open(\"./train/train1M_1.csv\") as f:\n",
    "    for line in f:\n",
    "        piece = eval(line)\n",
    "        data.append(piece)"
   ]
  },
  {
   "cell_type": "code",
   "execution_count": null,
   "metadata": {},
   "outputs": [],
   "source": [
    "data = np.array(data)"
   ]
  },
  {
   "cell_type": "code",
   "execution_count": null,
   "metadata": {},
   "outputs": [],
   "source": [
    "x = np.array([ grid_one(piece[:-1].reshape(4,4)) for piece in data ])\n",
    "y = keras.utils.to_categorical(data[:,-1], 4)"
   ]
  },
  {
   "cell_type": "code",
   "execution_count": null,
   "metadata": {},
   "outputs": [],
   "source": [
    "sep = 1100000\n",
    "x_train = x[:sep]\n",
    "x_test = x[sep:]\n",
    "y_train = y[:sep]\n",
    "y_test = y[sep:]"
   ]
  },
  {
   "cell_type": "code",
   "execution_count": null,
   "metadata": {},
   "outputs": [],
   "source": [
    "x_test.shape"
   ]
  },
  {
   "cell_type": "code",
   "execution_count": null,
   "metadata": {},
   "outputs": [],
   "source": [
    "model = keras.models.load_model('model_k.h5')"
   ]
  },
  {
   "cell_type": "code",
   "execution_count": null,
   "metadata": {
    "collapsed": true
   },
   "outputs": [],
   "source": [
    "# train , validation_data=(x_test,y_test)\n",
    "model.fit(x_train, y_train, batch_size=BATCH_SIZE, epochs=1, verbose=1)"
   ]
  },
  {
   "cell_type": "code",
   "execution_count": null,
   "metadata": {
    "collapsed": true
   },
   "outputs": [],
   "source": [
    "score_test = model.evaluate(x_test,y_test,verbose=0)\n",
    "print('Testing loss: %.4f, Testing accuracy: %.2f' % (score_test[0],score_test[1]))"
   ]
  },
  {
   "cell_type": "code",
   "execution_count": null,
   "metadata": {},
   "outputs": [],
   "source": [
    "model.save('model_k.h5')  # creates a HDF5 file 'my_model.h5'"
   ]
  },
  {
   "cell_type": "code",
   "execution_count": null,
   "metadata": {},
   "outputs": [],
   "source": []
  },
  {
   "cell_type": "markdown",
   "metadata": {},
   "source": [
    "# 在线学习"
   ]
  },
  {
   "cell_type": "code",
   "execution_count": 1,
   "metadata": {},
   "outputs": [
    {
     "name": "stderr",
     "output_type": "stream",
     "text": [
      "Using TensorFlow backend.\n"
     ]
    },
    {
     "name": "stdout",
     "output_type": "stream",
     "text": [
      "Loaded expectmax lib for 2048: /home/faymek/2048-api/game2048/expectimax/bin/2048.so\n"
     ]
    }
   ],
   "source": [
    "import keras\n",
    "from keras.models import Model\n",
    "import numpy as np\n",
    "\n",
    "import random\n",
    "from collections import namedtuple\n",
    "from game2048.game import Game\n",
    "from game2048.expectimax import board_to_move\n",
    "\n",
    "OUT_SHAPE = (4,4)\n",
    "CAND = 16\n",
    "map_table = {2**i : i for i in range(1,CAND)}\n",
    "map_table[0] = 0\n",
    "vmap = np.vectorize(lambda x: map_table[x])\n",
    "\n",
    "def grid_one(arr):\n",
    "    ret = np.zeros(shape=OUT_SHAPE+(CAND,),dtype=bool)  # shape = (4,4,16)\n",
    "    for r in range(OUT_SHAPE[0]):\n",
    "        for c in range(OUT_SHAPE[1]):\n",
    "            ret[r,c,arr[r,c]] = 1\n",
    "    return ret\n",
    "\n",
    "\n",
    "Guide = namedtuple('Guides', ('state', 'action'))\n",
    "\n",
    "class Guides:\n",
    "    \n",
    "    def __init__(self, cap):\n",
    "        self.cap = cap\n",
    "        self.mem = []\n",
    "        self.pos = 0\n",
    "        \n",
    "    def push(self, *args):\n",
    "        if len(self.mem) < self.cap:\n",
    "            self.mem.append(None)\n",
    "        self.mem[self.pos] = Guide(*args)\n",
    "        self.pos = (self.pos + 1) % self.cap\n",
    "        \n",
    "    def sample(self, batch_size):\n",
    "        return random.sample(self.mem, batch_size)\n",
    "    \n",
    "    def ready(self,batch_size):\n",
    "        return len(self.mem) >= batch_size\n",
    "    \n",
    "    def __len__(self):\n",
    "        return len(self.mem)\n",
    "    \n",
    "    \n",
    "class ModelWrapper:\n",
    "    \n",
    "    def __init__(self, model, cap):\n",
    "        self.model = model\n",
    "        self.mem = Guides(cap)\n",
    "        #self.writer = tf.\n",
    "        self.trainning_step = 0\n",
    "        \n",
    "    def predict(self, board):\n",
    "        return model.predict(np.expand_dims(board,axis=0))\n",
    "    \n",
    "    def move(self, game):\n",
    "        ohe_board = grid_one(vmap(game.board))        \n",
    "        self.mem.push(ohe_board, board_to_move(game.board))\n",
    "        game.move(self.predict(ohe_board).argmax())\n",
    "        \n",
    "    def train(self, batch):\n",
    "        if self.mem.ready(batch):\n",
    "            guides = self.mem.sample(batch)\n",
    "            X = []\n",
    "            Y = []\n",
    "            for guide in guides:\n",
    "                X.append(guide.state)\n",
    "                ohe_action = [0]*4\n",
    "                ohe_action[guide.action] = 1\n",
    "                Y.append(ohe_action)\n",
    "            loss, acc = self.model.train_on_batch(np.array(X), np.array(Y))\n",
    "            print('#%d \\t loss:%.3f \\t acc:%.3f'%(self.trainning_step, float(loss), float(acc)))\n",
    "            self.trainning_step += 1"
   ]
  },
  {
   "cell_type": "code",
   "execution_count": null,
   "metadata": {},
   "outputs": [],
   "source": []
  },
  {
   "cell_type": "code",
   "execution_count": 2,
   "metadata": {},
   "outputs": [],
   "source": [
    "model = keras.models.load_model('model_ol.h5')"
   ]
  },
  {
   "cell_type": "code",
   "execution_count": 3,
   "metadata": {},
   "outputs": [],
   "source": [
    "MEMORY = 32768\n",
    "BATCH = 1024\n",
    "mw = ModelWrapper(model,MEMORY)"
   ]
  },
  {
   "cell_type": "code",
   "execution_count": null,
   "metadata": {},
   "outputs": [],
   "source": [
    "while True:\n",
    "    game = Game(4, random=False)\n",
    "    while not game.end:\n",
    "        mw.move(game)\n",
    "    print('score:',game.score, end='\\t')\n",
    "    mw.train(BATCH)\n",
    "    if(mw.trainning_step%10==0):\n",
    "        model.save('modelOL.h5')"
   ]
  },
  {
   "cell_type": "code",
   "execution_count": 5,
   "metadata": {},
   "outputs": [],
   "source": [
    "# 先填满内存\n",
    "while not mw.mem.ready(BATCH):\n",
    "    game = Game(4, random=False)\n",
    "    while not game.end:\n",
    "        mw.move(game)"
   ]
  },
  {
   "cell_type": "code",
   "execution_count": null,
   "metadata": {},
   "outputs": [],
   "source": [
    "def generate_data():\n",
    "    while True:\n",
    "        game = Game(4, random=False)\n",
    "        while not game.end:\n",
    "            mw.move(game)\n",
    "        print('score:',game.score, end='\\t')\n",
    "        X = []\n",
    "        Y = []\n",
    "        for guide in mw.mem.mem:\n",
    "            X.append(guide.state)\n",
    "            ohe_action = [0]*4\n",
    "            ohe_action[guide.action] = 1\n",
    "            Y.append(ohe_action)\n",
    "        yield np.array(X), np.array(Y)\n",
    "            \n",
    "model.fit_generator(generate_data(), steps_per_epoch=1, epochs=20)"
   ]
  },
  {
   "cell_type": "code",
   "execution_count": 46,
   "metadata": {},
   "outputs": [
    {
     "data": {
      "text/plain": [
       "7450"
      ]
     },
     "execution_count": 46,
     "metadata": {},
     "output_type": "execute_result"
    }
   ],
   "source": [
    "len(mw.mem.mem)"
   ]
  },
  {
   "cell_type": "code",
   "execution_count": null,
   "metadata": {},
   "outputs": [],
   "source": []
  },
  {
   "cell_type": "code",
   "execution_count": null,
   "metadata": {},
   "outputs": [],
   "source": []
  },
  {
   "cell_type": "markdown",
   "metadata": {},
   "source": [
    "# 测试分数"
   ]
  },
  {
   "cell_type": "code",
   "execution_count": 2,
   "metadata": {},
   "outputs": [],
   "source": [
    "from game2048.game import Game\n",
    "from game2048.displays import Display, IPythonDisplay\n",
    "from game2048.agents import Agent, RandomAgent, ExpectiMaxAgent\n",
    "# from game2048.displayer import Displayer\n",
    "display1 = Display()\n",
    "display2 = IPythonDisplay()"
   ]
  },
  {
   "cell_type": "code",
   "execution_count": null,
   "metadata": {},
   "outputs": [],
   "source": [
    "map_table = {2**i : i for i in range(1,CAND)}\n",
    "map_table[0] = 0\n",
    "\n",
    "class MyAgent(Agent):\n",
    "\n",
    "    def __init__(self, game, display=None):\n",
    "        super().__init__(game, display)\n",
    "        \n",
    "    def step(self):\n",
    "        x0 = np.array([ grid_one(vmap(game.board)) ])\n",
    "        preds = list(model.predict(x0))\n",
    "        direction = np.argmax(preds[0])\n",
    "        return direction\n"
   ]
  },
  {
   "cell_type": "code",
   "execution_count": null,
   "metadata": {},
   "outputs": [],
   "source": [
    "game = Game(4, random=False)\n",
    "agent = MyAgent(game, display=display1)\n",
    "agent.play()\n",
    "game.score"
   ]
  },
  {
   "cell_type": "code",
   "execution_count": null,
   "metadata": {},
   "outputs": [],
   "source": [
    "scores = []\n",
    "for i in range(10):\n",
    "    game = Game(4, random=False)\n",
    "    agent = MyAgent(game, display=display1)\n",
    "    agent.play()\n",
    "    scores.append(game.score)\n",
    "scores"
   ]
  },
  {
   "cell_type": "code",
   "execution_count": 45,
   "metadata": {},
   "outputs": [],
   "source": [
    "from game2048.game import Game\n",
    "from game2048.expectimax import board_to_move\n",
    "vd2 = np.vectorize(lambda x: int(x/2))"
   ]
  },
  {
   "cell_type": "code",
   "execution_count": 211,
   "metadata": {},
   "outputs": [
    {
     "name": "stdout",
     "output_type": "stream",
     "text": [
      "[[ 0.  0.  0.  0.]\n",
      " [ 0.  0.  0.  0.]\n",
      " [ 0.  0.  0.  4.]\n",
      " [ 0.  0.  0.  2.]]\n",
      "[[ 0.  0.  0.  0.]\n",
      " [ 0.  0.  4.  0.]\n",
      " [ 0.  0.  0.  4.]\n",
      " [ 4.  0.  0.  2.]]\n",
      "[[ 4.  0.  8.  4.]\n",
      " [ 0.  0.  0.  2.]\n",
      " [ 0.  0.  0.  2.]\n",
      " [ 0.  0.  0.  0.]]\n",
      "[[ 4.  8.  4.  0.]\n",
      " [ 2.  0.  0.  0.]\n",
      " [ 2.  0.  0.  0.]\n",
      " [ 0.  0.  0.  2.]]\n",
      "[[ 4.  8.  4.  0.]\n",
      " [ 2.  0.  0.  0.]\n",
      " [ 2.  0.  0.  2.]\n",
      " [ 2.  0.  0.  0.]]\n",
      "[[ 4.  2.  0.  0.]\n",
      " [ 2.  0.  0.  0.]\n",
      " [ 4.  0.  0.  0.]\n",
      " [ 2.  8.  4.  4.]]\n",
      "[[   0.    0.    0.    4.]\n",
      " [   2.    0.    0.    0.]\n",
      " [  16.    4.    0.    0.]\n",
      " [ 256.    4.    4.    0.]]\n",
      "[[   0.    0.    2.    0.]\n",
      " [   4.    0.    0.    0.]\n",
      " [  16.    0.    0.    0.]\n",
      " [ 256.    8.    4.    4.]]\n",
      "[[   8.    8.    0.    0.]\n",
      " [  16.    0.    0.    0.]\n",
      " [  32.   16.    4.    2.]\n",
      " [ 256.   32.    4.    0.]]\n",
      "[[   0.    0.    2.    0.]\n",
      " [   0.    0.    4.    0.]\n",
      " [   4.    8.    2.    2.]\n",
      " [ 256.  128.   64.   32.]]\n",
      "[[   0.    0.    2.    4.]\n",
      " [   0.    0.    4.    2.]\n",
      " [   8.    0.   64.    4.]\n",
      " [   8.   32.   32.  512.]]\n",
      "[[   0.    0.    0.    2.]\n",
      " [   0.    0.    4.    8.]\n",
      " [   0.    0.    8.    8.]\n",
      " [   4.   16.  128.  512.]]\n",
      "[[   2.    0.    4.    2.]\n",
      " [   0.    4.    2.    4.]\n",
      " [   2.   16.    8.   16.]\n",
      " [   4.   16.  128.  512.]]\n",
      "[[   2.    2.    8.    2.]\n",
      " [   0.    4.    4.   16.]\n",
      " [   8.    4.   16.   32.]\n",
      " [  16.   32.  128.  512.]]\n",
      "[[   0.    0.    0.    0.]\n",
      " [   0.    0.    2.    2.]\n",
      " [   2.    8.    4.    8.]\n",
      " [   8.   32.  256.  512.]]\n",
      "[[   0.    0.    2.    0.]\n",
      " [   2.    0.    4.    0.]\n",
      " [   8.    2.    2.    0.]\n",
      " [   8.   64.  256.  512.]]\n",
      "[[   0.    2.    2.    8.]\n",
      " [   0.    0.    4.   16.]\n",
      " [   2.    4.   16.   32.]\n",
      " [   4.  128.  256.  512.]]\n",
      "[[   2.    2.    8.    4.]\n",
      " [   0.    2.    8.    4.]\n",
      " [   2.    4.    8.   64.]\n",
      " [   8.  128.  256.  512.]]\n",
      "[[   2.    0.    2.    0.]\n",
      " [   0.    0.    8.    8.]\n",
      " [   4.    8.   16.   64.]\n",
      " [   8.  128.  256.  512.]]\n",
      "[[   0.    0.    0.    4.]\n",
      " [   2.    0.    0.    8.]\n",
      " [   4.    8.   32.   64.]\n",
      " [   8.  128.  256.  512.]]\n",
      "[[   4.    0.    0.    2.]\n",
      " [   2.    8.    0.    0.]\n",
      " [   4.    8.   32.   64.]\n",
      " [   8.  128.  256.  512.]]\n",
      "[[   8.    0.    2.    0.]\n",
      " [   2.    2.    2.    0.]\n",
      " [   4.   16.   32.   64.]\n",
      " [   8.  128.  256.  512.]]\n",
      "372\n"
     ]
    }
   ],
   "source": [
    "game = Game(4, random=False, score_to_win=1024)\n",
    "#game.enable_rewrite_board = True\n",
    "#cur_board = game.board\n",
    "count = 0\n",
    "err = []\n",
    "while not game.end:\n",
    "    d = board_to_move(game.board)\n",
    "    count += 1\n",
    "    cur_board = game.board\n",
    "    ds = []\n",
    "    for i in range(4):\n",
    "        ds.append(board_to_move(cur_board))\n",
    "        cur_board = np.rot90(cur_board)\n",
    "\n",
    "    if not (0 in ds and 1 in ds and 2 in ds and 3 in ds):\n",
    "        print(game.board)\n",
    "    game.move(d)\n",
    "print(count)"
   ]
  },
  {
   "cell_type": "code",
   "execution_count": 141,
   "metadata": {},
   "outputs": [
    {
     "name": "stdout",
     "output_type": "stream",
     "text": [
      "[[    4.     0.     0.     0.]\n",
      " [    4.     0.     0.     0.]\n",
      " [   16.     8.     8.     0.]\n",
      " [   32.   128.   512.  1024.]]\n",
      "0\n",
      "[[  2   0   0   0]\n",
      " [  2   0   0   0]\n",
      " [  8   4   4   0]\n",
      " [ 16  64 256 512]]\n",
      "1\n"
     ]
    }
   ],
   "source": [
    "print(cur_board)\n",
    "print(board_to_move(cur_board))\n",
    "print(vd2(cur_board))\n",
    "print(board_to_move(vd2(cur_board)))"
   ]
  },
  {
   "cell_type": "code",
   "execution_count": 118,
   "metadata": {},
   "outputs": [],
   "source": [
    "m2 = np.ones((4,4))*2"
   ]
  },
  {
   "cell_type": "code",
   "execution_count": 202,
   "metadata": {},
   "outputs": [
    {
     "name": "stdout",
     "output_type": "stream",
     "text": [
      "[[ 16 512 256   8]\n",
      " [256  64   4  64]\n",
      " [512 256  32   8]\n",
      " [ 32   8  64  64]]\n",
      "0\n",
      "3\n",
      "0\n",
      "3\n"
     ]
    }
   ],
   "source": [
    "game = Game(4, random=True)\n",
    "cur_board = game.board\n",
    "print(cur_board)\n",
    "for i in range(4):\n",
    "    print(board_to_move(cur_board))\n",
    "    cur_board = np.rot90(cur_board)\n"
   ]
  },
  {
   "cell_type": "code",
   "execution_count": 180,
   "metadata": {},
   "outputs": [
    {
     "data": {
      "text/plain": [
       "True"
      ]
     },
     "execution_count": 180,
     "metadata": {},
     "output_type": "execute_result"
    }
   ],
   "source": [
    "32 in game.board"
   ]
  },
  {
   "cell_type": "code",
   "execution_count": 205,
   "metadata": {},
   "outputs": [
    {
     "data": {
      "text/plain": [
       "585"
      ]
     },
     "execution_count": 205,
     "metadata": {},
     "output_type": "execute_result"
    }
   ],
   "source": []
  },
  {
   "cell_type": "code",
   "execution_count": null,
   "metadata": {},
   "outputs": [],
   "source": []
  }
 ],
 "metadata": {
  "kernelspec": {
   "display_name": "Python 3",
   "language": "python",
   "name": "python3"
  },
  "language_info": {
   "codemirror_mode": {
    "name": "ipython",
    "version": 3
   },
   "file_extension": ".py",
   "mimetype": "text/x-python",
   "name": "python",
   "nbconvert_exporter": "python",
   "pygments_lexer": "ipython3",
   "version": "3.6.6"
  }
 },
 "nbformat": 4,
 "nbformat_minor": 2
}
