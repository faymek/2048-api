{
 "cells": [
  {
   "cell_type": "code",
   "execution_count": 4,
   "metadata": {},
   "outputs": [],
   "source": [
    "from game2048.game import Game\n",
    "from game2048.displays import Display, IPythonDisplay\n",
    "from game2048.agents import Agent, RandomAgent, ExpectiMaxAgent\n",
    "# from game2048.displayer import Displayer\n",
    "display1 = Display()\n",
    "display2 = IPythonDisplay()"
   ]
  },
  {
   "cell_type": "code",
   "execution_count": 5,
   "metadata": {},
   "outputs": [],
   "source": [
    "import numpy as np\n",
    "import datetime\n",
    "import csv\n",
    "import math\n",
    "\n",
    "class DataAgent(ExpectiMaxAgent):\n",
    "    def auto_log(self, data_dir=\"./data/\", max_iter=np.inf):\n",
    "        filename = data_dir + datetime.datetime.now().strftime('%y%m%d_%H%M%S_%f') + \".csv\"\n",
    "        print(\"文件保存到：\",filename,end='\\t')\n",
    "        with open(filename,\"w\") as csvfile: \n",
    "            writer = csv.writer(csvfile)\n",
    "            n_iter = 0\n",
    "            while (n_iter < max_iter) and (not self.game.end):\n",
    "                direction = self.step()\n",
    "                bd = list(self.game.board.flatten())\n",
    "                bd = [int(s) for s in bd]\n",
    "                bd = [int(math.log(i,2)) if i>0 else i for i in bd]\n",
    "                bd.append(direction)\n",
    "                writer.writerow(bd)\n",
    "                self.game.move(direction)\n",
    "                n_iter += 1\n",
    "        print(\"数据量：\",n_iter)\n",
    "        "
   ]
  },
  {
   "cell_type": "code",
   "execution_count": 3,
   "metadata": {},
   "outputs": [
    {
     "name": "stdout",
     "output_type": "stream",
     "text": [
      "Loaded expectmax lib for 2048: /home/faymek/code/2048-api/game2048/expectimax/bin/2048.so\n",
      "#0\t 文件保存到： ./data/181211_211358_838821.csv\t数据量： 705\n",
      "#1\t 文件保存到： ./data/181211_211415_785905.csv\t数据量： 694\n",
      "#2\t 文件保存到： ./data/181211_211435_098388.csv\t数据量： 711\n",
      "#3\t 文件保存到： ./data/181211_211454_595457.csv\t数据量： 692\n",
      "#4\t 文件保存到： ./data/181211_211510_667709.csv\t数据量： 702\n",
      "#5\t 文件保存到： ./data/181211_211527_584813.csv\t数据量： 697\n",
      "#6\t 文件保存到： ./data/181211_211544_556857.csv\t数据量： 687\n",
      "#7\t 文件保存到： ./data/181211_211603_543663.csv\t数据量： 701\n",
      "#8\t 文件保存到： ./data/181211_211623_341964.csv\t数据量： 711\n",
      "#9\t 文件保存到： ./data/181211_211641_348629.csv\t数据量： 706\n"
     ]
    }
   ],
   "source": [
    "# 生成数据，一局一个csv文件，无header无index，每行数据为 [log2后的棋盘, 下一步的方向]\n",
    "for i in range(10):\n",
    "    game = Game(4, score_to_win=2048, random=False)\n",
    "    agent = DataAgent(game, display=display2)\n",
    "    print(\"#%d\\t\"%i,end=' ')\n",
    "    agent.auto_log()"
   ]
  },
  {
   "cell_type": "code",
   "execution_count": null,
   "metadata": {},
   "outputs": [],
   "source": []
  },
  {
   "cell_type": "code",
   "execution_count": 154,
   "metadata": {},
   "outputs": [
    {
     "name": "stdout",
     "output_type": "stream",
     "text": [
      "文件保存到： ./all_2943_181212_214215.csv\n"
     ]
    }
   ],
   "source": [
    "#聚合path下所有csv\n",
    "# 有时候可能目录下会有.ipynb_checkpoints，请手动删除\n",
    "import os\n",
    "import datetime\n",
    "\n",
    "path = './multi/'\n",
    "files = os.listdir(path)\n",
    "outputfile = \"./\" + \"all_%d_%s.csv\"%(len(files),datetime.datetime.now().strftime('%y%m%d_%H%M%S'))\n",
    "print(\"文件保存到：\", outputfile)  # 文件默认不保存到data目录\n",
    "\n",
    "target = open(outputfile,\"w\")\n",
    "for file in files[100:120]: \n",
    "    with open(path+file, \"r\") as f:\n",
    "        for line in f:\n",
    "            target.write(line)\n",
    "target.close()"
   ]
  },
  {
   "cell_type": "code",
   "execution_count": 155,
   "metadata": {},
   "outputs": [
    {
     "data": {
      "text/plain": [
       "14055"
      ]
     },
     "execution_count": 155,
     "metadata": {},
     "output_type": "execute_result"
    }
   ],
   "source": [
    "count = 0\n",
    "with open(outputfile,\"r\") as f:\n",
    "    for line in f:\n",
    "        count +=1\n",
    "count"
   ]
  },
  {
   "cell_type": "code",
   "execution_count": null,
   "metadata": {},
   "outputs": [],
   "source": []
  },
  {
   "cell_type": "code",
   "execution_count": null,
   "metadata": {},
   "outputs": [],
   "source": []
  },
  {
   "cell_type": "code",
   "execution_count": 6,
   "metadata": {
    "collapsed": true
   },
   "outputs": [],
   "source": [
    "from game2048.game import Game\n",
    "from game2048.displays import Display, IPythonDisplay\n",
    "from game2048.agents import Agent, RandomAgent, ExpectiMaxAgent\n",
    "import math\n",
    "import numpy as np"
   ]
  },
  {
   "cell_type": "code",
   "execution_count": 17,
   "metadata": {
    "collapsed": true
   },
   "outputs": [],
   "source": [
    "display1 = Display()\n",
    "display2 = IPythonDisplay()"
   ]
  },
  {
   "cell_type": "code",
   "execution_count": 113,
   "metadata": {},
   "outputs": [
    {
     "data": {
      "text/plain": [
       "array([[0., 2., 0., 0.],\n",
       "       [0., 0., 0., 0.],\n",
       "       [0., 0., 0., 0.],\n",
       "       [0., 4., 0., 0.]])"
      ]
     },
     "execution_count": 113,
     "metadata": {},
     "output_type": "execute_result"
    }
   ],
   "source": [
    "game = Game(4, random=False)\n",
    "game.enable_rewrite_board = True\n",
    "cur_board = game.board\n",
    "cur_board"
   ]
  },
  {
   "cell_type": "code",
   "execution_count": 114,
   "metadata": {},
   "outputs": [
    {
     "name": "stdout",
     "output_type": "stream",
     "text": [
      "left\n",
      "[[2. 0. 0. 0.]\n",
      " [2. 0. 0. 0.]\n",
      " [0. 0. 0. 0.]\n",
      " [4. 0. 0. 0.]]\n",
      "down\n",
      "[[0. 0. 0. 0.]\n",
      " [0. 0. 0. 0.]\n",
      " [0. 2. 0. 2.]\n",
      " [0. 4. 0. 0.]]\n",
      "right\n",
      "[[0. 0. 0. 2.]\n",
      " [0. 0. 0. 0.]\n",
      " [0. 0. 0. 0.]\n",
      " [0. 4. 0. 4.]]\n",
      "up\n",
      "[[0. 2. 0. 0.]\n",
      " [0. 4. 0. 0.]\n",
      " [0. 0. 0. 0.]\n",
      " [0. 0. 2. 0.]]\n"
     ]
    }
   ],
   "source": [
    "'''\n",
    "direction:\n",
    "    0: left\n",
    "    1: down\n",
    "    2: right\n",
    "    3: up\n",
    "'''\n",
    "comment = [\"left\",\"down\",\"right\",\"up\"]\n",
    "for d in range(4):\n",
    "    print(comment[d])\n",
    "    game.board = cur_board\n",
    "    game.move(d)\n",
    "    print(game.board)\n",
    "    #display2.display(game)"
   ]
  },
  {
   "cell_type": "code",
   "execution_count": 115,
   "metadata": {},
   "outputs": [
    {
     "name": "stdout",
     "output_type": "stream",
     "text": [
      "[0, 2, 0, 0, 0, 0, 0, 0, 0, 0, 0, 0, 0, 4, 0, 0]\n"
     ]
    },
    {
     "data": {
      "text/plain": [
       "[0, 1, 0, 0, 0, 0, 0, 0, 0, 0, 0, 0, 0, 2, 0, 0]"
      ]
     },
     "execution_count": 115,
     "metadata": {},
     "output_type": "execute_result"
    }
   ],
   "source": [
    "game.board = cur_board\n",
    "bd = list(game.board.flatten())\n",
    "bd = [int(s) for s in bd]\n",
    "print(bd)\n",
    "bd = [int(math.log(i,2)) if i>0 else i for i in bd]\n",
    "bd\n",
    "#bd.append(direction)"
   ]
  },
  {
   "cell_type": "code",
   "execution_count": null,
   "metadata": {},
   "outputs": [],
   "source": []
  },
  {
   "cell_type": "code",
   "execution_count": 156,
   "metadata": {},
   "outputs": [],
   "source": [
    "line = [0, 1, 0, 0, 0, 0, 0, 0, 0, 0, 0, 0, 0, 2, 0, 0, 3]"
   ]
  },
  {
   "cell_type": "code",
   "execution_count": 157,
   "metadata": {},
   "outputs": [
    {
     "data": {
      "text/plain": [
       "[0, 2, 0, 0, 0, 0, 0, 0, 0, 0, 0, 0, 0, 4, 0, 0]"
      ]
     },
     "execution_count": 157,
     "metadata": {},
     "output_type": "execute_result"
    }
   ],
   "source": [
    "bd = [2<<(i-1) if i>0 else 0 for i in line[:-1]]\n",
    "bd"
   ]
  },
  {
   "cell_type": "code",
   "execution_count": 158,
   "metadata": {},
   "outputs": [
    {
     "data": {
      "text/plain": [
       "array([[0, 2, 0, 0],\n",
       "       [0, 0, 0, 0],\n",
       "       [0, 0, 0, 0],\n",
       "       [0, 4, 0, 0]])"
      ]
     },
     "execution_count": 158,
     "metadata": {},
     "output_type": "execute_result"
    }
   ],
   "source": [
    "cur_board = np.array(bd).reshape(4,4)\n",
    "cur_board"
   ]
  },
  {
   "cell_type": "code",
   "execution_count": 159,
   "metadata": {},
   "outputs": [
    {
     "name": "stdout",
     "output_type": "stream",
     "text": [
      "[[2 0 0 0]\n",
      " [0 0 4 0]\n",
      " [0 0 0 0]\n",
      " [4 0 0 0]]\n",
      "[[0 0 0 0]\n",
      " [0 0 0 0]\n",
      " [0 2 0 0]\n",
      " [2 4 0 0]]\n",
      "[[0 0 0 2]\n",
      " [0 0 0 4]\n",
      " [0 0 0 0]\n",
      " [0 0 0 4]]\n",
      "[[0 2 0 4]\n",
      " [0 4 0 0]\n",
      " [0 0 0 0]\n",
      " [0 0 0 0]]\n"
     ]
    }
   ],
   "source": [
    "comment = [\"left\",\"down\",\"right\",\"up\"]\n",
    "buf = []\n",
    "for d in range(4):\n",
    "    #print(comment[d])\n",
    "    game.board = cur_board\n",
    "    game.move(d)\n",
    "    buf.append(game.board.astype(int))\n",
    "    print(buf[d])"
   ]
  },
  {
   "cell_type": "code",
   "execution_count": 203,
   "metadata": {},
   "outputs": [],
   "source": [
    "#构建映射表\n",
    "'''\n",
    "[0:left, 3:up   ]\n",
    "[1:down, 2:right]\n",
    "'''\n",
    "tmp = np.vstack((np.hstack((buf[0],buf[3])) ,np.hstack((buf[1],buf[2]))))"
   ]
  },
  {
   "cell_type": "code",
   "execution_count": 223,
   "metadata": {},
   "outputs": [],
   "source": [
    "new = np.append(tmp,line[-1]).tolist()\n"
   ]
  },
  {
   "cell_type": "code",
   "execution_count": 205,
   "metadata": {},
   "outputs": [
    {
     "name": "stdout",
     "output_type": "stream",
     "text": [
      "['8', '0', '0', '0', '4', '0', '0', '4', '0', '0', '0', '0', '0', '2', '0', '0', '4', '0', '0', '0', '0', '0', '0', '0', '0', '0', '0', '0', '0', '0', '0', '0', '0', '0', '0', '0', '0', '0', '0', '8', '0', '0', '0', '0', '0', '0', '0', '0', '0', '0', '0', '0', '0', '0', '0', '0', '4', '0', '4', '4', '4', '0', '0', '0', '\\n']\n"
     ]
    }
   ],
   "source": [
    "print(new)"
   ]
  },
  {
   "cell_type": "code",
   "execution_count": 193,
   "metadata": {},
   "outputs": [
    {
     "data": {
      "text/plain": [
       "65"
      ]
     },
     "execution_count": 193,
     "metadata": {},
     "output_type": "execute_result"
    }
   ],
   "source": [
    "len(new)"
   ]
  },
  {
   "cell_type": "code",
   "execution_count": 8,
   "metadata": {},
   "outputs": [
    {
     "data": {
      "text/plain": [
       "array([[0., 0., 0., 2.],\n",
       "       [0., 0., 0., 0.],\n",
       "       [0., 0., 0., 0.],\n",
       "       [0., 2., 0., 0.]])"
      ]
     },
     "execution_count": 8,
     "metadata": {},
     "output_type": "execute_result"
    }
   ],
   "source": [
    "game = Game(4, random=False)\n",
    "game.enable_rewrite_board = True\n",
    "cur_board = game.board\n",
    "cur_board"
   ]
  },
  {
   "cell_type": "code",
   "execution_count": 9,
   "metadata": {},
   "outputs": [],
   "source": [
    "with open(\"datatrain2M.csv\",\"w\") as target:\n",
    "    writer = csv.writer(target)\n",
    "    with open(\"data2M.csv\",\"r\") as f:\n",
    "        for line in f:\n",
    "            t = eval(line)\n",
    "            bd = [2<<(i-1) if i>0 else 0 for i in t[:-1]]\n",
    "            cur_board = np.array(bd).reshape(4,4)\n",
    "            buf = []\n",
    "            for d in range(4):\n",
    "                #print(comment[d])\n",
    "                game.board = cur_board\n",
    "                game.move(d)\n",
    "                buf.append(game.board.astype(int))\n",
    "                #print(buf[d])\n",
    "            tmp = np.vstack((np.hstack((buf[0],buf[3])) ,np.hstack((buf[1],buf[2])))).flatten().tolist()\n",
    "            new = [int(math.log(i,2)) if i>0 else i for i in tmp]\n",
    "            new.append(t[-1])\n",
    "            #print(new)\n",
    "            writer.writerow(new)"
   ]
  },
  {
   "cell_type": "code",
   "execution_count": 2,
   "metadata": {},
   "outputs": [],
   "source": [
    "import csv"
   ]
  },
  {
   "cell_type": "code",
   "execution_count": 234,
   "metadata": {},
   "outputs": [
    {
     "data": {
      "text/plain": [
       "65"
      ]
     },
     "execution_count": 234,
     "metadata": {},
     "output_type": "execute_result"
    }
   ],
   "source": [
    "len(new)"
   ]
  },
  {
   "cell_type": "code",
   "execution_count": null,
   "metadata": {},
   "outputs": [],
   "source": []
  }
 ],
 "metadata": {
  "kernelspec": {
   "display_name": "Python 3",
   "language": "python",
   "name": "python3"
  },
  "language_info": {
   "codemirror_mode": {
    "name": "ipython",
    "version": 3
   },
   "file_extension": ".py",
   "mimetype": "text/x-python",
   "name": "python",
   "nbconvert_exporter": "python",
   "pygments_lexer": "ipython3",
   "version": "3.6.6"
  }
 },
 "nbformat": 4,
 "nbformat_minor": 2
}
