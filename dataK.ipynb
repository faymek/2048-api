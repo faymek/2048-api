{
 "cells": [
  {
   "cell_type": "code",
   "execution_count": 1,
   "metadata": {},
   "outputs": [],
   "source": [
    "from game2048.game import Game\n",
    "from game2048.displays import Display, IPythonDisplay\n",
    "from game2048.agents import Agent, RandomAgent, ExpectiMaxAgent\n",
    "# from game2048.displayer import Displayer\n",
    "display1 = Display()\n",
    "display2 = IPythonDisplay()"
   ]
  },
  {
   "cell_type": "code",
   "execution_count": 2,
   "metadata": {},
   "outputs": [],
   "source": [
    "import numpy as np\n",
    "import datetime\n",
    "import csv\n",
    "import math\n",
    "\n",
    "map_table = {2**i : i for i in range(1,16)}\n",
    "map_table[0] = 0\n",
    "\n",
    "class DataAgent(ExpectiMaxAgent):\n",
    "    def auto_log(self, data_dir=\"./data/\", max_iter=np.inf):\n",
    "        filename = data_dir + datetime.datetime.now().strftime('%y%m%d_%H%M%S_%f') + \".csv\"\n",
    "        print(\"文件保存到：\",filename,end='\\t')\n",
    "        with open(filename,\"w\") as csvfile: \n",
    "            writer = csv.writer(csvfile)\n",
    "            n_iter = 0\n",
    "            while (n_iter < max_iter) and (not self.game.end):\n",
    "                direction = self.step()\n",
    "                bd = list(self.game.board.flatten())\n",
    "                bd = [int(s) for s in bd]\n",
    "                bd = [map_table[i] for i in bd]\n",
    "                #bd = [int(math.log(i,2)) if i>0 else i for i in bd]\n",
    "                bd.append(direction)\n",
    "                writer.writerow(bd)\n",
    "                \n",
    "                # 模拟当前正确率 0.72 = x + (1-x)/4 => x = 0.63\n",
    "                if(random.random()>0.63):\n",
    "                    direction = random.randrange(4)\n",
    "                self.game.move(direction)\n",
    "                n_iter += 1\n",
    "        print(\"数据量：\",n_iter)\n",
    "        "
   ]
  },
  {
   "cell_type": "code",
   "execution_count": null,
   "metadata": {},
   "outputs": [],
   "source": [
    "# 生成数据，一局一个csv文件，无header无index，每行数据为 [log2后的棋盘, 下一步的方向]\n",
    "for i in range(1000):\n",
    "    game = Game(4, score_to_win=2048, random=False)\n",
    "    agent = DataAgent(game, display=None)\n",
    "    print(\"#%d\\t\"%i,end=' ')\n",
    "    agent.auto_log()"
   ]
  },
  {
   "cell_type": "code",
   "execution_count": null,
   "metadata": {},
   "outputs": [],
   "source": []
  },
  {
   "cell_type": "code",
   "execution_count": 6,
   "metadata": {},
   "outputs": [
    {
     "name": "stdout",
     "output_type": "stream",
     "text": [
      "文件保存到： ./all_10_181216_235355.csv\n"
     ]
    }
   ],
   "source": [
    "#聚合path下所有csv\n",
    "# 有时候可能目录下会有.ipynb_checkpoints，请手动删除\n",
    "import os\n",
    "import datetime\n",
    "\n",
    "path = './data/'\n",
    "files = os.listdir(path)\n",
    "outputfile = \"./\" + \"all_%d_%s.csv\"%(len(files),datetime.datetime.now().strftime('%y%m%d_%H%M%S'))\n",
    "print(\"文件保存到：\", outputfile)  # 文件默认不保存到data目录\n",
    "\n",
    "target = open(outputfile,\"w\")\n",
    "for file in files: \n",
    "    with open(path+file, \"r\") as f:\n",
    "        for line in f:\n",
    "            target.write(line)\n",
    "target.close()"
   ]
  },
  {
   "cell_type": "code",
   "execution_count": 155,
   "metadata": {},
   "outputs": [
    {
     "data": {
      "text/plain": [
       "14055"
      ]
     },
     "execution_count": 155,
     "metadata": {},
     "output_type": "execute_result"
    }
   ],
   "source": [
    "count = 0\n",
    "with open(outputfile,\"r\") as f:\n",
    "    for line in f:\n",
    "        count +=1\n",
    "count"
   ]
  },
  {
   "cell_type": "code",
   "execution_count": null,
   "metadata": {},
   "outputs": [],
   "source": []
  },
  {
   "cell_type": "code",
   "execution_count": 4,
   "metadata": {},
   "outputs": [],
   "source": [
    "import numpy as np\n",
    "import datetime\n",
    "import csv\n",
    "import random\n",
    "\n",
    "map_table = {2**i : i for i in range(1,16)}\n",
    "map_table[0] = 0\n",
    "\n",
    "class BigDataAgent(ExpectiMaxAgent):\n",
    "    def auto_log(self, data_dir=\"./data/\", max_iter=1000, acc=1):\n",
    "        filename = data_dir + datetime.datetime.now().strftime('%y%m%d_%H%M%S_%f') + \".csv\"\n",
    "        print(\"文件保存到：\",filename)\n",
    "        acc_th = (4*acc-1)/3  # 模拟当前正确率\n",
    "        with open(filename,\"w\") as csvfile: \n",
    "            writer = csv.writer(csvfile)\n",
    "            n_iter = 0\n",
    "            n_run = 0\n",
    "            while (n_iter < max_iter):\n",
    "                if(n_iter%10000==0):\n",
    "                        print(\"局数：\",n_run,\"目前数据量：\",n_iter)\n",
    "                if self.game.end:\n",
    "                    n_run += 1\n",
    "                    self.game = Game(4, score_to_win=2048, random=False)\n",
    "                direction = self.step()\n",
    "                bd = list(self.game.board.flatten())\n",
    "                bd = [int(s) for s in bd]\n",
    "                bd = [map_table[i] for i in bd]\n",
    "                bd.append(direction)\n",
    "                writer.writerow(bd)\n",
    "                \n",
    "                # 模拟当前正确率 0.72 = x + (1-x)/4 => x = 0.63\n",
    "                if(random.random()>acc_th):\n",
    "                    direction = random.randrange(4)\n",
    "                self.game.move(direction)\n",
    "                n_iter += 1\n",
    "        print(\"数据量：\",n_iter)\n",
    "        "
   ]
  },
  {
   "cell_type": "code",
   "execution_count": null,
   "metadata": {},
   "outputs": [],
   "source": [
    "# 生成数据，一局一个csv文件，无header无index，每行数据为 [log2后的棋盘, 下一步的方向]\n",
    "game = Game(4, score_to_win=2048, random=False)\n",
    "agent = BigDataAgent(game, display=None)\n",
    "for i in range(1):\n",
    "    agent.auto_log(max_iter=1000000,acc=1)"
   ]
  },
  {
   "cell_type": "code",
   "execution_count": null,
   "metadata": {},
   "outputs": [],
   "source": []
  },
  {
   "cell_type": "code",
   "execution_count": 6,
   "metadata": {
    "collapsed": true
   },
   "outputs": [],
   "source": [
    "from game2048.game import Game\n",
    "from game2048.displays import Display, IPythonDisplay\n",
    "from game2048.agents import Agent, RandomAgent, ExpectiMaxAgent\n",
    "import math\n",
    "import numpy as np"
   ]
  },
  {
   "cell_type": "code",
   "execution_count": 17,
   "metadata": {
    "collapsed": true
   },
   "outputs": [],
   "source": [
    "display1 = Display()\n",
    "display2 = IPythonDisplay()"
   ]
  },
  {
   "cell_type": "code",
   "execution_count": 113,
   "metadata": {},
   "outputs": [
    {
     "data": {
      "text/plain": [
       "array([[0., 2., 0., 0.],\n",
       "       [0., 0., 0., 0.],\n",
       "       [0., 0., 0., 0.],\n",
       "       [0., 4., 0., 0.]])"
      ]
     },
     "execution_count": 113,
     "metadata": {},
     "output_type": "execute_result"
    }
   ],
   "source": [
    "game = Game(4, random=False)\n",
    "game.enable_rewrite_board = True\n",
    "cur_board = game.board\n",
    "cur_board"
   ]
  },
  {
   "cell_type": "code",
   "execution_count": 114,
   "metadata": {},
   "outputs": [
    {
     "name": "stdout",
     "output_type": "stream",
     "text": [
      "left\n",
      "[[2. 0. 0. 0.]\n",
      " [2. 0. 0. 0.]\n",
      " [0. 0. 0. 0.]\n",
      " [4. 0. 0. 0.]]\n",
      "down\n",
      "[[0. 0. 0. 0.]\n",
      " [0. 0. 0. 0.]\n",
      " [0. 2. 0. 2.]\n",
      " [0. 4. 0. 0.]]\n",
      "right\n",
      "[[0. 0. 0. 2.]\n",
      " [0. 0. 0. 0.]\n",
      " [0. 0. 0. 0.]\n",
      " [0. 4. 0. 4.]]\n",
      "up\n",
      "[[0. 2. 0. 0.]\n",
      " [0. 4. 0. 0.]\n",
      " [0. 0. 0. 0.]\n",
      " [0. 0. 2. 0.]]\n"
     ]
    }
   ],
   "source": [
    "'''\n",
    "direction:\n",
    "    0: left\n",
    "    1: down\n",
    "    2: right\n",
    "    3: up\n",
    "'''\n",
    "comment = [\"left\",\"down\",\"right\",\"up\"]\n",
    "for d in range(4):\n",
    "    print(comment[d])\n",
    "    game.board = cur_board\n",
    "    game.move(d)\n",
    "    print(game.board)\n",
    "    #display2.display(game)"
   ]
  },
  {
   "cell_type": "code",
   "execution_count": 115,
   "metadata": {},
   "outputs": [
    {
     "name": "stdout",
     "output_type": "stream",
     "text": [
      "[0, 2, 0, 0, 0, 0, 0, 0, 0, 0, 0, 0, 0, 4, 0, 0]\n"
     ]
    },
    {
     "data": {
      "text/plain": [
       "[0, 1, 0, 0, 0, 0, 0, 0, 0, 0, 0, 0, 0, 2, 0, 0]"
      ]
     },
     "execution_count": 115,
     "metadata": {},
     "output_type": "execute_result"
    }
   ],
   "source": [
    "game.board = cur_board\n",
    "bd = list(game.board.flatten())\n",
    "bd = [int(s) for s in bd]\n",
    "print(bd)\n",
    "bd = [int(math.log(i,2)) if i>0 else i for i in bd]\n",
    "bd\n",
    "#bd.append(direction)"
   ]
  },
  {
   "cell_type": "code",
   "execution_count": null,
   "metadata": {},
   "outputs": [],
   "source": []
  },
  {
   "cell_type": "code",
   "execution_count": 156,
   "metadata": {},
   "outputs": [],
   "source": [
    "line = [0, 1, 0, 0, 0, 0, 0, 0, 0, 0, 0, 0, 0, 2, 0, 0, 3]"
   ]
  },
  {
   "cell_type": "code",
   "execution_count": 157,
   "metadata": {},
   "outputs": [
    {
     "data": {
      "text/plain": [
       "[0, 2, 0, 0, 0, 0, 0, 0, 0, 0, 0, 0, 0, 4, 0, 0]"
      ]
     },
     "execution_count": 157,
     "metadata": {},
     "output_type": "execute_result"
    }
   ],
   "source": [
    "bd = [2<<(i-1) if i>0 else 0 for i in line[:-1]]\n",
    "bd"
   ]
  },
  {
   "cell_type": "code",
   "execution_count": 158,
   "metadata": {},
   "outputs": [
    {
     "data": {
      "text/plain": [
       "array([[0, 2, 0, 0],\n",
       "       [0, 0, 0, 0],\n",
       "       [0, 0, 0, 0],\n",
       "       [0, 4, 0, 0]])"
      ]
     },
     "execution_count": 158,
     "metadata": {},
     "output_type": "execute_result"
    }
   ],
   "source": [
    "cur_board = np.array(bd).reshape(4,4)\n",
    "cur_board"
   ]
  },
  {
   "cell_type": "code",
   "execution_count": 159,
   "metadata": {},
   "outputs": [
    {
     "name": "stdout",
     "output_type": "stream",
     "text": [
      "[[2 0 0 0]\n",
      " [0 0 4 0]\n",
      " [0 0 0 0]\n",
      " [4 0 0 0]]\n",
      "[[0 0 0 0]\n",
      " [0 0 0 0]\n",
      " [0 2 0 0]\n",
      " [2 4 0 0]]\n",
      "[[0 0 0 2]\n",
      " [0 0 0 4]\n",
      " [0 0 0 0]\n",
      " [0 0 0 4]]\n",
      "[[0 2 0 4]\n",
      " [0 4 0 0]\n",
      " [0 0 0 0]\n",
      " [0 0 0 0]]\n"
     ]
    }
   ],
   "source": [
    "comment = [\"left\",\"down\",\"right\",\"up\"]\n",
    "buf = []\n",
    "for d in range(4):\n",
    "    #print(comment[d])\n",
    "    game.board = cur_board\n",
    "    game.move(d)\n",
    "    buf.append(game.board.astype(int))\n",
    "    print(buf[d])"
   ]
  },
  {
   "cell_type": "code",
   "execution_count": 203,
   "metadata": {},
   "outputs": [],
   "source": [
    "#构建映射表\n",
    "'''\n",
    "[0:left, 3:up   ]\n",
    "[1:down, 2:right]\n",
    "'''\n",
    "tmp = np.vstack((np.hstack((buf[0],buf[3])) ,np.hstack((buf[1],buf[2]))))"
   ]
  },
  {
   "cell_type": "code",
   "execution_count": 223,
   "metadata": {},
   "outputs": [],
   "source": [
    "new = np.append(tmp,line[-1]).tolist()\n"
   ]
  },
  {
   "cell_type": "code",
   "execution_count": 205,
   "metadata": {},
   "outputs": [
    {
     "name": "stdout",
     "output_type": "stream",
     "text": [
      "['8', '0', '0', '0', '4', '0', '0', '4', '0', '0', '0', '0', '0', '2', '0', '0', '4', '0', '0', '0', '0', '0', '0', '0', '0', '0', '0', '0', '0', '0', '0', '0', '0', '0', '0', '0', '0', '0', '0', '8', '0', '0', '0', '0', '0', '0', '0', '0', '0', '0', '0', '0', '0', '0', '0', '0', '4', '0', '4', '4', '4', '0', '0', '0', '\\n']\n"
     ]
    }
   ],
   "source": [
    "print(new)"
   ]
  },
  {
   "cell_type": "code",
   "execution_count": 193,
   "metadata": {},
   "outputs": [
    {
     "data": {
      "text/plain": [
       "65"
      ]
     },
     "execution_count": 193,
     "metadata": {},
     "output_type": "execute_result"
    }
   ],
   "source": [
    "len(new)"
   ]
  },
  {
   "cell_type": "code",
   "execution_count": 8,
   "metadata": {},
   "outputs": [
    {
     "data": {
      "text/plain": [
       "array([[0., 0., 0., 2.],\n",
       "       [0., 0., 0., 0.],\n",
       "       [0., 0., 0., 0.],\n",
       "       [0., 2., 0., 0.]])"
      ]
     },
     "execution_count": 8,
     "metadata": {},
     "output_type": "execute_result"
    }
   ],
   "source": [
    "game = Game(4, random=False)\n",
    "game.enable_rewrite_board = True\n",
    "cur_board = game.board\n",
    "cur_board"
   ]
  },
  {
   "cell_type": "code",
   "execution_count": 9,
   "metadata": {},
   "outputs": [],
   "source": [
    "with open(\"datatrain2M.csv\",\"w\") as target:\n",
    "    writer = csv.writer(target)\n",
    "    with open(\"data2M.csv\",\"r\") as f:\n",
    "        for line in f:\n",
    "            t = eval(line)\n",
    "            bd = [2<<(i-1) if i>0 else 0 for i in t[:-1]]\n",
    "            cur_board = np.array(bd).reshape(4,4)\n",
    "            buf = []\n",
    "            for d in range(4):\n",
    "                #print(comment[d])\n",
    "                game.board = cur_board\n",
    "                game.move(d)\n",
    "                buf.append(game.board.astype(int))\n",
    "                #print(buf[d])\n",
    "            tmp = np.vstack((np.hstack((buf[0],buf[3])) ,np.hstack((buf[1],buf[2])))).flatten().tolist()\n",
    "            new = [int(math.log(i,2)) if i>0 else i for i in tmp]\n",
    "            new.append(t[-1])\n",
    "            #print(new)\n",
    "            writer.writerow(new)"
   ]
  },
  {
   "cell_type": "code",
   "execution_count": 2,
   "metadata": {},
   "outputs": [],
   "source": [
    "import csv"
   ]
  },
  {
   "cell_type": "code",
   "execution_count": 234,
   "metadata": {},
   "outputs": [
    {
     "data": {
      "text/plain": [
       "65"
      ]
     },
     "execution_count": 234,
     "metadata": {},
     "output_type": "execute_result"
    }
   ],
   "source": [
    "len(new)"
   ]
  },
  {
   "cell_type": "code",
   "execution_count": null,
   "metadata": {},
   "outputs": [],
   "source": [
    "import csv\n",
    "model = keras.models.load_model('model_k.h5')\n",
    "\n",
    "for it in range(3):\n",
    "    for index in range(6):\n",
    "        data = []\n",
    "        with open(\"./train/train1M_%d.csv\"%(index+1)) as f:\n",
    "            for line in f:\n",
    "                piece = eval(line)\n",
    "                data.append(piece)\n",
    "\n",
    "        data = np.array(data)\n",
    "\n",
    "        x = np.array([ grid_one(piece[:-1].reshape(4,4)) for piece in data ])\n",
    "        y = keras.utils.to_categorical(data[:,-1], 4)\n",
    "\n",
    "        sep = 1000000\n",
    "        x_train = x[:sep]\n",
    "        x_test = x[sep:]\n",
    "        y_train = y[:sep]\n",
    "        y_test = y[sep:]\n",
    "\n",
    "        model.fit(x_train, y_train, batch_size=BATCH_SIZE, epochs=10)\n",
    "        \n",
    "        model.save('model_k.h5')\n"
   ]
  },
  {
   "cell_type": "code",
   "execution_count": null,
   "metadata": {},
   "outputs": [],
   "source": [
    "import csv\n",
    "data = []\n",
    "with open(\"./train/train1M_2.csv\") as f:\n",
    "    for line in f:\n",
    "        piece = eval(line)\n",
    "        data.append(piece)\n",
    "\n",
    "data = np.array(data)\n",
    "\n",
    "x = np.array([ grid_one(piece[:-1].reshape(4,4)) for piece in data ])\n",
    "y = keras.utils.to_categorical(data[:,-1], 4)\n",
    "\n",
    "sep = 900000\n",
    "x_train = x[:sep]\n",
    "x_test = x[sep:]\n",
    "y_train = y[:sep]\n",
    "y_test = y[sep:]\n",
    "\n",
    "\n",
    "model = keras.models.load_model('model_k.h5')\n",
    "\n",
    "# train , validation_data=(x_test,y_test)\n",
    "model.fit(x_train, y_train, batch_size=BATCH_SIZE, epochs=30)\n",
    "\n",
    "score_test = model.evaluate(x_test,y_test,verbose=0)\n",
    "print('Testing loss: %.4f, Testing accuracy: %.2f' % (score_test[0],score_test[1]))"
   ]
  }
 ],
 "metadata": {
  "kernelspec": {
   "display_name": "Python 3",
   "language": "python",
   "name": "python3"
  },
  "language_info": {
   "codemirror_mode": {
    "name": "ipython",
    "version": 3
   },
   "file_extension": ".py",
   "mimetype": "text/x-python",
   "name": "python",
   "nbconvert_exporter": "python",
   "pygments_lexer": "ipython3",
   "version": "3.6.6"
  }
 },
 "nbformat": 4,
 "nbformat_minor": 2
}
