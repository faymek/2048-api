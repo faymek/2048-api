{
 "cells": [
  {
   "cell_type": "markdown",
   "metadata": {},
   "source": [
    "# 2048 Keras"
   ]
  },
  {
   "cell_type": "code",
   "execution_count": 1,
   "metadata": {
    "collapsed": true
   },
   "outputs": [
    {
     "name": "stderr",
     "output_type": "stream",
     "text": [
      "Using TensorFlow backend.\n"
     ]
    }
   ],
   "source": [
    "import keras\n",
    "from keras.models import Sequential, Model\n",
    "from keras.layers import Dense, Dropout, Flatten, Conv2D, MaxPooling2D, Input, concatenate, BatchNormalization, Activation\n",
    "from keras.optimizers import Adadelta\n",
    "import numpy as np\n",
    "\n",
    "BATCH_SIZE = 128\n",
    "NUM_EPOCHS = 15"
   ]
  },
  {
   "cell_type": "code",
   "execution_count": 2,
   "metadata": {},
   "outputs": [],
   "source": [
    "OUT_SHAPE = (4,4)\n",
    "CAND = 16\n",
    "map_table = {2**i : i for i in range(1,CAND)}\n",
    "map_table[0] = 0\n",
    "vmap = np.vectorize(lambda x: map_table[x])\n",
    "\n",
    "def grid_one(arr):\n",
    "    ret = np.zeros(shape=OUT_SHAPE+(CAND,),dtype=bool)  # shape = (4,4,16)\n",
    "    for r in range(OUT_SHAPE[0]):\n",
    "        for c in range(OUT_SHAPE[1]):\n",
    "            ret[r,c,arr[r,c]] = 1\n",
    "    return ret"
   ]
  },
  {
   "cell_type": "code",
   "execution_count": null,
   "metadata": {},
   "outputs": [],
   "source": [
    "import csv\n",
    "data = []\n",
    "with open(\"./train/train1M_1.csv\") as f:\n",
    "    for line in f:\n",
    "        piece = eval(line)\n",
    "        data.append(piece)"
   ]
  },
  {
   "cell_type": "code",
   "execution_count": null,
   "metadata": {},
   "outputs": [],
   "source": [
    "data = np.array(data)"
   ]
  },
  {
   "cell_type": "code",
   "execution_count": null,
   "metadata": {},
   "outputs": [],
   "source": [
    "x = np.array([ grid_one(piece[:-1].reshape(4,4)) for piece in data ])\n",
    "y = keras.utils.to_categorical(data[:,-1], 4)"
   ]
  },
  {
   "cell_type": "code",
   "execution_count": null,
   "metadata": {},
   "outputs": [],
   "source": [
    "sep = 1100000\n",
    "x_train = x[:sep]\n",
    "x_test = x[sep:]\n",
    "y_train = y[:sep]\n",
    "y_test = y[sep:]"
   ]
  },
  {
   "cell_type": "code",
   "execution_count": null,
   "metadata": {},
   "outputs": [],
   "source": [
    "x_test.shape"
   ]
  },
  {
   "cell_type": "code",
   "execution_count": null,
   "metadata": {},
   "outputs": [],
   "source": [
    "model = keras.models.load_model('model_k.h5')"
   ]
  },
  {
   "cell_type": "code",
   "execution_count": null,
   "metadata": {
    "collapsed": true
   },
   "outputs": [],
   "source": [
    "# train , validation_data=(x_test,y_test)\n",
    "model.fit(x_train, y_train, batch_size=BATCH_SIZE, epochs=1, verbose=1)"
   ]
  },
  {
   "cell_type": "code",
   "execution_count": null,
   "metadata": {
    "collapsed": true
   },
   "outputs": [],
   "source": [
    "score_test = model.evaluate(x_test,y_test,verbose=0)\n",
    "print('Testing loss: %.4f, Testing accuracy: %.2f' % (score_test[0],score_test[1]))"
   ]
  },
  {
   "cell_type": "code",
   "execution_count": null,
   "metadata": {},
   "outputs": [],
   "source": [
    "model.save('model_k.h5')  # creates a HDF5 file 'my_model.h5'"
   ]
  },
  {
   "cell_type": "code",
   "execution_count": null,
   "metadata": {},
   "outputs": [],
   "source": []
  },
  {
   "cell_type": "markdown",
   "metadata": {},
   "source": [
    "# 在线学习"
   ]
  },
  {
   "cell_type": "code",
   "execution_count": 1,
   "metadata": {},
   "outputs": [
    {
     "name": "stderr",
     "output_type": "stream",
     "text": [
      "Using TensorFlow backend.\n"
     ]
    },
    {
     "name": "stdout",
     "output_type": "stream",
     "text": [
      "Loaded expectmax lib for 2048: /home/faymek/2048-api/game2048/expectimax/bin/2048.so\n"
     ]
    }
   ],
   "source": [
    "import keras\n",
    "from keras.models import Model\n",
    "import numpy as np\n",
    "import pickle\n",
    "import datetime\n",
    "import time\n",
    "import _thread\n",
    "import random\n",
    "from collections import namedtuple\n",
    "from game2048.game import Game\n",
    "from game2048.expectimax import board_to_move\n",
    "\n",
    "OUT_SHAPE = (4,4)\n",
    "CAND = 16\n",
    "map_table = {2**i : i for i in range(1,CAND)}\n",
    "map_table[0] = 0\n",
    "vmap = np.vectorize(lambda x: map_table[x])\n",
    "\n",
    "def grid_one(arr):\n",
    "    ret = np.zeros(shape=OUT_SHAPE+(CAND,),dtype=bool)  # shape = (4,4,16)\n",
    "    for r in range(OUT_SHAPE[0]):\n",
    "        for c in range(OUT_SHAPE[1]):\n",
    "            ret[r,c,arr[r,c]] = 1\n",
    "    return ret\n",
    "\n",
    "\n",
    "class Guides:\n",
    "    \n",
    "    def __init__(self, cap):\n",
    "        self.cap = cap\n",
    "        self.mem = []\n",
    "        self.pos = 0\n",
    "        \n",
    "    def push(self, xy):\n",
    "        if len(self.mem) < self.cap:\n",
    "            self.mem.append(None)\n",
    "        self.mem[self.pos] = xy\n",
    "        self.pos = (self.pos + 1) % self.cap\n",
    "        \n",
    "    def sample(self, batch_size):\n",
    "        return random.sample(self.mem, batch_size)\n",
    "    \n",
    "    def ready(self,batch_size):\n",
    "        return len(self.mem) >= batch_size\n",
    "    \n",
    "    def __len__(self):\n",
    "        return len(self.mem)\n",
    "    \n",
    "    \n",
    "class ModelWrapper:\n",
    "    \n",
    "    def __init__(self, model, cap):\n",
    "        self.model = model\n",
    "        self.mem = Guides(cap)\n",
    "        #self.writer = tf.\n",
    "        self.trainning_step = 0\n",
    "        \n",
    "    def predict(self, board):\n",
    "        return model.predict(np.expand_dims(board,axis=0))\n",
    "    \n",
    "    def move(self, game):\n",
    "        ohe_board = grid_one(vmap(game.board))        \n",
    "        self.mem.push((ohe_board, board_to_move(game.board)))\n",
    "        game.move(self.predict(ohe_board).argmax())\n",
    "        \n",
    "    def train(self, batch):\n",
    "        if self.mem.ready(batch):\n",
    "            guides = self.mem.sample(batch)\n",
    "            X = []\n",
    "            Y = []\n",
    "            for guide in guides:\n",
    "                X.append(guide[0])\n",
    "                ohe_action = [0]*4\n",
    "                ohe_action[guide[1]] = 1\n",
    "                Y.append(ohe_action)\n",
    "            loss, acc = self.model.train_on_batch(np.array(X), np.array(Y))\n",
    "            print('#%d \\t loss:%.3f \\t acc:%.3f'%(self.trainning_step, float(loss), float(acc)))\n",
    "            self.trainning_step += 1"
   ]
  },
  {
   "cell_type": "code",
   "execution_count": 5,
   "metadata": {},
   "outputs": [],
   "source": []
  },
  {
   "cell_type": "markdown",
   "metadata": {},
   "source": [
    "# 数据生成线程"
   ]
  },
  {
   "cell_type": "code",
   "execution_count": 40,
   "metadata": {},
   "outputs": [],
   "source": []
  },
  {
   "cell_type": "code",
   "execution_count": 20,
   "metadata": {},
   "outputs": [
    {
     "name": "stdout",
     "output_type": "stream",
     "text": [
      "score: 512\tscore: 1024\t"
     ]
    }
   ],
   "source": [
    "gen()"
   ]
  },
  {
   "cell_type": "code",
   "execution_count": 13,
   "metadata": {},
   "outputs": [],
   "source": [
    "def gen():\n",
    "    model_data = keras.models.load_model('model_last.h5')\n",
    "    MEMORY = 1024\n",
    "    mw_data = ModelWrapper(model_data,MEMORY)\n",
    "    game = Game(4, random=False)\n",
    "    for i in range(MEMORY):\n",
    "        if game.end:\n",
    "            print('score:',game.score, end='\\t')\n",
    "            game = Game(4, random=False)\n",
    "        mw_data.move(game)\n",
    "    filename = \"mem/\"+datetime.datetime.now().strftime('%y%m%d_%H%M%S')+\".pickle\"\n",
    "    pickle.dump(mw_data.mem.mem,open(filename,\"wb\"))\n",
    "    mem_list.append(filename)\n",
    "    mw.NEWDATA += 1"
   ]
  },
  {
   "cell_type": "code",
   "execution_count": 22,
   "metadata": {},
   "outputs": [
    {
     "name": "stdout",
     "output_type": "stream",
     "text": [
      "score: 512\tscore: 256\tscore: 512\t"
     ]
    }
   ],
   "source": [
    "gen()"
   ]
  },
  {
   "cell_type": "code",
   "execution_count": 14,
   "metadata": {},
   "outputs": [],
   "source": [
    "model = keras.models.load_model('model.h5')\n",
    "MEMORY = 1024\n",
    "mw = ModelWrapper(model,MEMORY)"
   ]
  },
  {
   "cell_type": "code",
   "execution_count": 17,
   "metadata": {},
   "outputs": [],
   "source": [
    "mw.NEWDATA = 1\n",
    "mem_list = []\n",
    "maxiter = 0"
   ]
  },
  {
   "cell_type": "code",
   "execution_count": 18,
   "metadata": {},
   "outputs": [],
   "source": [
    "files = random.sample(mem_list,maxiter)\n",
    "print(files)\n",
    "for file in files:\n",
    "    mw.mem.mem = pickle.load(open(file,\"rb\"))\n",
    "    mw.train(1024)\n",
    "if mw.NEWDATA==0:\n",
    "    maxiter+=1\n",
    "    while (mw.NEWDATA==0):\n",
    "        print(\"sleep 5\")\n",
    "        time.sleep(5)\n",
    "print(\"maxiter\",maxiter)\n",
    "mw.NEWDATA=0\n",
    "model.save(\"model_last.h5\")"
   ]
  },
  {
   "cell_type": "code",
   "execution_count": 21,
   "metadata": {},
   "outputs": [
    {
     "data": {
      "text/plain": [
       "139736160864000"
      ]
     },
     "execution_count": 21,
     "metadata": {},
     "output_type": "execute_result"
    },
    {
     "name": "stderr",
     "output_type": "stream",
     "text": [
      "Unhandled exception in thread started by <function gen at 0x7f173f372840>\n"
     ]
    }
   ],
   "source": [
    "_thread.start_new_thread( gen, () )"
   ]
  },
  {
   "cell_type": "code",
   "execution_count": 54,
   "metadata": {},
   "outputs": [
    {
     "name": "stdout",
     "output_type": "stream",
     "text": [
      "1\n",
      "2\n"
     ]
    }
   ],
   "source": [
    "import time\n",
    "print(1)\n",
    "time.sleep(1)\n",
    "print(2)"
   ]
  },
  {
   "cell_type": "markdown",
   "metadata": {},
   "source": [
    "# 训练过程"
   ]
  },
  {
   "cell_type": "code",
   "execution_count": 8,
   "metadata": {},
   "outputs": [],
   "source": []
  },
  {
   "cell_type": "code",
   "execution_count": 7,
   "metadata": {},
   "outputs": [],
   "source": [
    "#while True:\n",
    "\n",
    "random.sample(mem_list,maxiter)\n",
    "for file in mem_list:\n",
    "    \n",
    "    "
   ]
  },
  {
   "cell_type": "code",
   "execution_count": 9,
   "metadata": {},
   "outputs": [],
   "source": [
    "pickle.load(open(\"tttt.pickle\",\"rb\"))"
   ]
  },
  {
   "cell_type": "code",
   "execution_count": 17,
   "metadata": {},
   "outputs": [
    {
     "data": {
      "text/plain": [
       "'mem/190110_225209.csv'"
      ]
     },
     "execution_count": 17,
     "metadata": {},
     "output_type": "execute_result"
    }
   ],
   "source": [
    "filename = \"mem/\"+datetime.datetime.now().strftime('%y%m%d_%H%M%S')+\".csv\"\n",
    "filename"
   ]
  },
  {
   "cell_type": "code",
   "execution_count": 10,
   "metadata": {},
   "outputs": [],
   "source": [
    "import datetime"
   ]
  },
  {
   "cell_type": "code",
   "execution_count": 9,
   "metadata": {},
   "outputs": [],
   "source": []
  },
  {
   "cell_type": "code",
   "execution_count": 9,
   "metadata": {},
   "outputs": [
    {
     "data": {
      "text/plain": [
       "array([[1, 2, 3],\n",
       "       [4, 5, 6]])"
      ]
     },
     "execution_count": 9,
     "metadata": {},
     "output_type": "execute_result"
    }
   ],
   "source": []
  },
  {
   "cell_type": "code",
   "execution_count": 2,
   "metadata": {},
   "outputs": [],
   "source": [
    "model = keras.models.load_model('model.h5')"
   ]
  },
  {
   "cell_type": "code",
   "execution_count": 4,
   "metadata": {},
   "outputs": [],
   "source": [
    "MEMORY = 1024\n",
    "BATCH = 256\n",
    "mw = ModelWrapper(model,MEMORY)"
   ]
  },
  {
   "cell_type": "code",
   "execution_count": 5,
   "metadata": {},
   "outputs": [
    {
     "name": "stdout",
     "output_type": "stream",
     "text": [
      "score: 1024\t#0 \t loss:1.910 \t acc:0.508\n",
      "score: 512\t#1 \t loss:1.060 \t acc:0.625\n",
      "score: 512\t#2 \t loss:1.080 \t acc:0.590\n",
      "score: 1024\t#3 \t loss:1.717 \t acc:0.488\n",
      "score: 256\t#4 \t loss:1.998 \t acc:0.480\n",
      "score: 512\t#5 \t loss:1.627 \t acc:0.539\n",
      "score: 128\t#6 \t loss:1.367 \t acc:0.520\n"
     ]
    },
    {
     "ename": "KeyboardInterrupt",
     "evalue": "",
     "output_type": "error",
     "traceback": [
      "\u001b[0;31m---------------------------------------------------------------------------\u001b[0m",
      "\u001b[0;31mKeyboardInterrupt\u001b[0m                         Traceback (most recent call last)",
      "\u001b[0;32m<ipython-input-5-6eeac9395055>\u001b[0m in \u001b[0;36m<module>\u001b[0;34m()\u001b[0m\n\u001b[1;32m      2\u001b[0m     \u001b[0mgame\u001b[0m \u001b[0;34m=\u001b[0m \u001b[0mGame\u001b[0m\u001b[0;34m(\u001b[0m\u001b[0;36m4\u001b[0m\u001b[0;34m,\u001b[0m \u001b[0mrandom\u001b[0m\u001b[0;34m=\u001b[0m\u001b[0;32mFalse\u001b[0m\u001b[0;34m)\u001b[0m\u001b[0;34m\u001b[0m\u001b[0m\n\u001b[1;32m      3\u001b[0m     \u001b[0;32mwhile\u001b[0m \u001b[0;32mnot\u001b[0m \u001b[0mgame\u001b[0m\u001b[0;34m.\u001b[0m\u001b[0mend\u001b[0m\u001b[0;34m:\u001b[0m\u001b[0;34m\u001b[0m\u001b[0m\n\u001b[0;32m----> 4\u001b[0;31m         \u001b[0mmw\u001b[0m\u001b[0;34m.\u001b[0m\u001b[0mmove\u001b[0m\u001b[0;34m(\u001b[0m\u001b[0mgame\u001b[0m\u001b[0;34m)\u001b[0m\u001b[0;34m\u001b[0m\u001b[0m\n\u001b[0m\u001b[1;32m      5\u001b[0m     \u001b[0mprint\u001b[0m\u001b[0;34m(\u001b[0m\u001b[0;34m'score:'\u001b[0m\u001b[0;34m,\u001b[0m\u001b[0mgame\u001b[0m\u001b[0;34m.\u001b[0m\u001b[0mscore\u001b[0m\u001b[0;34m,\u001b[0m \u001b[0mend\u001b[0m\u001b[0;34m=\u001b[0m\u001b[0;34m'\\t'\u001b[0m\u001b[0;34m)\u001b[0m\u001b[0;34m\u001b[0m\u001b[0m\n\u001b[1;32m      6\u001b[0m     \u001b[0mmw\u001b[0m\u001b[0;34m.\u001b[0m\u001b[0mtrain\u001b[0m\u001b[0;34m(\u001b[0m\u001b[0mBATCH\u001b[0m\u001b[0;34m)\u001b[0m\u001b[0;34m\u001b[0m\u001b[0m\n",
      "\u001b[0;32m<ipython-input-1-6e58d9d466ad>\u001b[0m in \u001b[0;36mmove\u001b[0;34m(self, game)\u001b[0m\n\u001b[1;32m     60\u001b[0m     \u001b[0;32mdef\u001b[0m \u001b[0mmove\u001b[0m\u001b[0;34m(\u001b[0m\u001b[0mself\u001b[0m\u001b[0;34m,\u001b[0m \u001b[0mgame\u001b[0m\u001b[0;34m)\u001b[0m\u001b[0;34m:\u001b[0m\u001b[0;34m\u001b[0m\u001b[0m\n\u001b[1;32m     61\u001b[0m         \u001b[0mohe_board\u001b[0m \u001b[0;34m=\u001b[0m \u001b[0mgrid_one\u001b[0m\u001b[0;34m(\u001b[0m\u001b[0mvmap\u001b[0m\u001b[0;34m(\u001b[0m\u001b[0mgame\u001b[0m\u001b[0;34m.\u001b[0m\u001b[0mboard\u001b[0m\u001b[0;34m)\u001b[0m\u001b[0;34m)\u001b[0m\u001b[0;34m\u001b[0m\u001b[0m\n\u001b[0;32m---> 62\u001b[0;31m         \u001b[0mself\u001b[0m\u001b[0;34m.\u001b[0m\u001b[0mmem\u001b[0m\u001b[0;34m.\u001b[0m\u001b[0mpush\u001b[0m\u001b[0;34m(\u001b[0m\u001b[0;34m(\u001b[0m\u001b[0mohe_board\u001b[0m\u001b[0;34m,\u001b[0m \u001b[0mboard_to_move\u001b[0m\u001b[0;34m(\u001b[0m\u001b[0mgame\u001b[0m\u001b[0;34m.\u001b[0m\u001b[0mboard\u001b[0m\u001b[0;34m)\u001b[0m\u001b[0;34m)\u001b[0m\u001b[0;34m)\u001b[0m\u001b[0;34m\u001b[0m\u001b[0m\n\u001b[0m\u001b[1;32m     63\u001b[0m         \u001b[0mgame\u001b[0m\u001b[0;34m.\u001b[0m\u001b[0mmove\u001b[0m\u001b[0;34m(\u001b[0m\u001b[0mself\u001b[0m\u001b[0;34m.\u001b[0m\u001b[0mpredict\u001b[0m\u001b[0;34m(\u001b[0m\u001b[0mohe_board\u001b[0m\u001b[0;34m)\u001b[0m\u001b[0;34m.\u001b[0m\u001b[0margmax\u001b[0m\u001b[0;34m(\u001b[0m\u001b[0;34m)\u001b[0m\u001b[0;34m)\u001b[0m\u001b[0;34m\u001b[0m\u001b[0m\n\u001b[1;32m     64\u001b[0m \u001b[0;34m\u001b[0m\u001b[0m\n",
      "\u001b[0;32m~/2048-api/game2048/expectimax/_ext.py\u001b[0m in \u001b[0;36mboard_to_move\u001b[0;34m(x)\u001b[0m\n\u001b[1;32m    108\u001b[0m     \u001b[0;32mfor\u001b[0m \u001b[0mr\u001b[0m \u001b[0;32min\u001b[0m \u001b[0marr\u001b[0m\u001b[0;34m:\u001b[0m\u001b[0;34m\u001b[0m\u001b[0m\n\u001b[1;32m    109\u001b[0m         \u001b[0mret\u001b[0m\u001b[0;34m.\u001b[0m\u001b[0mappend\u001b[0m\u001b[0;34m(\u001b[0m\u001b[0;34m[\u001b[0m\u001b[0mint\u001b[0m\u001b[0;34m(\u001b[0m\u001b[0mc\u001b[0m\u001b[0;34m)\u001b[0m \u001b[0;32mfor\u001b[0m \u001b[0mc\u001b[0m \u001b[0;32min\u001b[0m \u001b[0mr\u001b[0m\u001b[0;34m]\u001b[0m\u001b[0;34m)\u001b[0m\u001b[0;34m\u001b[0m\u001b[0m\n\u001b[0;32m--> 110\u001b[0;31m     \u001b[0mmove\u001b[0m \u001b[0;34m=\u001b[0m \u001b[0mm_to_move\u001b[0m\u001b[0;34m(\u001b[0m\u001b[0mret\u001b[0m\u001b[0;34m)\u001b[0m\u001b[0;34m\u001b[0m\u001b[0m\n\u001b[0m\u001b[1;32m    111\u001b[0m     \u001b[0;32mreturn\u001b[0m \u001b[0mmove\u001b[0m\u001b[0;34m\u001b[0m\u001b[0m\n",
      "\u001b[0;32m~/2048-api/game2048/expectimax/_ext.py\u001b[0m in \u001b[0;36mm_to_move\u001b[0;34m(m)\u001b[0m\n\u001b[1;32m     98\u001b[0m     \u001b[0mmine\u001b[0m\u001b[0;34m:\u001b[0m \u001b[0mldru\u001b[0m\u001b[0;34m\u001b[0m\u001b[0m\n\u001b[1;32m     99\u001b[0m     '''\n\u001b[0;32m--> 100\u001b[0;31m     \u001b[0mmove\u001b[0m \u001b[0;34m=\u001b[0m \u001b[0mfind_best_move\u001b[0m\u001b[0;34m(\u001b[0m\u001b[0mm\u001b[0m\u001b[0;34m)\u001b[0m\u001b[0;34m\u001b[0m\u001b[0m\n\u001b[0m\u001b[1;32m    101\u001b[0m     \u001b[0;32mreturn\u001b[0m \u001b[0;34m[\u001b[0m\u001b[0;36m3\u001b[0m\u001b[0;34m,\u001b[0m \u001b[0;36m1\u001b[0m\u001b[0;34m,\u001b[0m \u001b[0;36m0\u001b[0m\u001b[0;34m,\u001b[0m \u001b[0;36m2\u001b[0m\u001b[0;34m]\u001b[0m\u001b[0;34m[\u001b[0m\u001b[0mmove\u001b[0m\u001b[0;34m]\u001b[0m\u001b[0;34m\u001b[0m\u001b[0m\n\u001b[1;32m    102\u001b[0m \u001b[0;34m\u001b[0m\u001b[0m\n",
      "\u001b[0;32m~/2048-api/game2048/expectimax/_ext.py\u001b[0m in \u001b[0;36mfind_best_move\u001b[0;34m(m)\u001b[0m\n\u001b[1;32m     81\u001b[0m \u001b[0;34m\u001b[0m\u001b[0m\n\u001b[1;32m     82\u001b[0m         scores = pool.map(score_toplevel_move, [\n\u001b[0;32m---> 83\u001b[0;31m                           (board, move) for move in range(4)])\n\u001b[0m\u001b[1;32m     84\u001b[0m         \u001b[0mbestmove\u001b[0m\u001b[0;34m,\u001b[0m \u001b[0mbestscore\u001b[0m \u001b[0;34m=\u001b[0m \u001b[0mmax\u001b[0m\u001b[0;34m(\u001b[0m\u001b[0menumerate\u001b[0m\u001b[0;34m(\u001b[0m\u001b[0mscores\u001b[0m\u001b[0;34m)\u001b[0m\u001b[0;34m,\u001b[0m \u001b[0mkey\u001b[0m\u001b[0;34m=\u001b[0m\u001b[0;32mlambda\u001b[0m \u001b[0mx\u001b[0m\u001b[0;34m:\u001b[0m \u001b[0mx\u001b[0m\u001b[0;34m[\u001b[0m\u001b[0;36m1\u001b[0m\u001b[0;34m]\u001b[0m\u001b[0;34m)\u001b[0m\u001b[0;34m\u001b[0m\u001b[0m\n\u001b[1;32m     85\u001b[0m         \u001b[0;32mif\u001b[0m \u001b[0mbestscore\u001b[0m \u001b[0;34m==\u001b[0m \u001b[0;36m0\u001b[0m\u001b[0;34m:\u001b[0m\u001b[0;34m\u001b[0m\u001b[0m\n",
      "\u001b[0;32m~/miniconda3/lib/python3.6/multiprocessing/pool.py\u001b[0m in \u001b[0;36mmap\u001b[0;34m(self, func, iterable, chunksize)\u001b[0m\n\u001b[1;32m    264\u001b[0m         \u001b[0;32min\u001b[0m \u001b[0ma\u001b[0m \u001b[0mlist\u001b[0m \u001b[0mthat\u001b[0m \u001b[0;32mis\u001b[0m \u001b[0mreturned\u001b[0m\u001b[0;34m.\u001b[0m\u001b[0;34m\u001b[0m\u001b[0m\n\u001b[1;32m    265\u001b[0m         '''\n\u001b[0;32m--> 266\u001b[0;31m         \u001b[0;32mreturn\u001b[0m \u001b[0mself\u001b[0m\u001b[0;34m.\u001b[0m\u001b[0m_map_async\u001b[0m\u001b[0;34m(\u001b[0m\u001b[0mfunc\u001b[0m\u001b[0;34m,\u001b[0m \u001b[0miterable\u001b[0m\u001b[0;34m,\u001b[0m \u001b[0mmapstar\u001b[0m\u001b[0;34m,\u001b[0m \u001b[0mchunksize\u001b[0m\u001b[0;34m)\u001b[0m\u001b[0;34m.\u001b[0m\u001b[0mget\u001b[0m\u001b[0;34m(\u001b[0m\u001b[0;34m)\u001b[0m\u001b[0;34m\u001b[0m\u001b[0m\n\u001b[0m\u001b[1;32m    267\u001b[0m \u001b[0;34m\u001b[0m\u001b[0m\n\u001b[1;32m    268\u001b[0m     \u001b[0;32mdef\u001b[0m \u001b[0mstarmap\u001b[0m\u001b[0;34m(\u001b[0m\u001b[0mself\u001b[0m\u001b[0;34m,\u001b[0m \u001b[0mfunc\u001b[0m\u001b[0;34m,\u001b[0m \u001b[0miterable\u001b[0m\u001b[0;34m,\u001b[0m \u001b[0mchunksize\u001b[0m\u001b[0;34m=\u001b[0m\u001b[0;32mNone\u001b[0m\u001b[0;34m)\u001b[0m\u001b[0;34m:\u001b[0m\u001b[0;34m\u001b[0m\u001b[0m\n",
      "\u001b[0;32m~/miniconda3/lib/python3.6/multiprocessing/pool.py\u001b[0m in \u001b[0;36mget\u001b[0;34m(self, timeout)\u001b[0m\n\u001b[1;32m    636\u001b[0m \u001b[0;34m\u001b[0m\u001b[0m\n\u001b[1;32m    637\u001b[0m     \u001b[0;32mdef\u001b[0m \u001b[0mget\u001b[0m\u001b[0;34m(\u001b[0m\u001b[0mself\u001b[0m\u001b[0;34m,\u001b[0m \u001b[0mtimeout\u001b[0m\u001b[0;34m=\u001b[0m\u001b[0;32mNone\u001b[0m\u001b[0;34m)\u001b[0m\u001b[0;34m:\u001b[0m\u001b[0;34m\u001b[0m\u001b[0m\n\u001b[0;32m--> 638\u001b[0;31m         \u001b[0mself\u001b[0m\u001b[0;34m.\u001b[0m\u001b[0mwait\u001b[0m\u001b[0;34m(\u001b[0m\u001b[0mtimeout\u001b[0m\u001b[0;34m)\u001b[0m\u001b[0;34m\u001b[0m\u001b[0m\n\u001b[0m\u001b[1;32m    639\u001b[0m         \u001b[0;32mif\u001b[0m \u001b[0;32mnot\u001b[0m \u001b[0mself\u001b[0m\u001b[0;34m.\u001b[0m\u001b[0mready\u001b[0m\u001b[0;34m(\u001b[0m\u001b[0;34m)\u001b[0m\u001b[0;34m:\u001b[0m\u001b[0;34m\u001b[0m\u001b[0m\n\u001b[1;32m    640\u001b[0m             \u001b[0;32mraise\u001b[0m \u001b[0mTimeoutError\u001b[0m\u001b[0;34m\u001b[0m\u001b[0m\n",
      "\u001b[0;32m~/miniconda3/lib/python3.6/multiprocessing/pool.py\u001b[0m in \u001b[0;36mwait\u001b[0;34m(self, timeout)\u001b[0m\n\u001b[1;32m    633\u001b[0m \u001b[0;34m\u001b[0m\u001b[0m\n\u001b[1;32m    634\u001b[0m     \u001b[0;32mdef\u001b[0m \u001b[0mwait\u001b[0m\u001b[0;34m(\u001b[0m\u001b[0mself\u001b[0m\u001b[0;34m,\u001b[0m \u001b[0mtimeout\u001b[0m\u001b[0;34m=\u001b[0m\u001b[0;32mNone\u001b[0m\u001b[0;34m)\u001b[0m\u001b[0;34m:\u001b[0m\u001b[0;34m\u001b[0m\u001b[0m\n\u001b[0;32m--> 635\u001b[0;31m         \u001b[0mself\u001b[0m\u001b[0;34m.\u001b[0m\u001b[0m_event\u001b[0m\u001b[0;34m.\u001b[0m\u001b[0mwait\u001b[0m\u001b[0;34m(\u001b[0m\u001b[0mtimeout\u001b[0m\u001b[0;34m)\u001b[0m\u001b[0;34m\u001b[0m\u001b[0m\n\u001b[0m\u001b[1;32m    636\u001b[0m \u001b[0;34m\u001b[0m\u001b[0m\n\u001b[1;32m    637\u001b[0m     \u001b[0;32mdef\u001b[0m \u001b[0mget\u001b[0m\u001b[0;34m(\u001b[0m\u001b[0mself\u001b[0m\u001b[0;34m,\u001b[0m \u001b[0mtimeout\u001b[0m\u001b[0;34m=\u001b[0m\u001b[0;32mNone\u001b[0m\u001b[0;34m)\u001b[0m\u001b[0;34m:\u001b[0m\u001b[0;34m\u001b[0m\u001b[0m\n",
      "\u001b[0;32m~/miniconda3/lib/python3.6/threading.py\u001b[0m in \u001b[0;36mwait\u001b[0;34m(self, timeout)\u001b[0m\n\u001b[1;32m    549\u001b[0m             \u001b[0msignaled\u001b[0m \u001b[0;34m=\u001b[0m \u001b[0mself\u001b[0m\u001b[0;34m.\u001b[0m\u001b[0m_flag\u001b[0m\u001b[0;34m\u001b[0m\u001b[0m\n\u001b[1;32m    550\u001b[0m             \u001b[0;32mif\u001b[0m \u001b[0;32mnot\u001b[0m \u001b[0msignaled\u001b[0m\u001b[0;34m:\u001b[0m\u001b[0;34m\u001b[0m\u001b[0m\n\u001b[0;32m--> 551\u001b[0;31m                 \u001b[0msignaled\u001b[0m \u001b[0;34m=\u001b[0m \u001b[0mself\u001b[0m\u001b[0;34m.\u001b[0m\u001b[0m_cond\u001b[0m\u001b[0;34m.\u001b[0m\u001b[0mwait\u001b[0m\u001b[0;34m(\u001b[0m\u001b[0mtimeout\u001b[0m\u001b[0;34m)\u001b[0m\u001b[0;34m\u001b[0m\u001b[0m\n\u001b[0m\u001b[1;32m    552\u001b[0m             \u001b[0;32mreturn\u001b[0m \u001b[0msignaled\u001b[0m\u001b[0;34m\u001b[0m\u001b[0m\n\u001b[1;32m    553\u001b[0m \u001b[0;34m\u001b[0m\u001b[0m\n",
      "\u001b[0;32m~/miniconda3/lib/python3.6/threading.py\u001b[0m in \u001b[0;36mwait\u001b[0;34m(self, timeout)\u001b[0m\n\u001b[1;32m    293\u001b[0m         \u001b[0;32mtry\u001b[0m\u001b[0;34m:\u001b[0m    \u001b[0;31m# restore state no matter what (e.g., KeyboardInterrupt)\u001b[0m\u001b[0;34m\u001b[0m\u001b[0m\n\u001b[1;32m    294\u001b[0m             \u001b[0;32mif\u001b[0m \u001b[0mtimeout\u001b[0m \u001b[0;32mis\u001b[0m \u001b[0;32mNone\u001b[0m\u001b[0;34m:\u001b[0m\u001b[0;34m\u001b[0m\u001b[0m\n\u001b[0;32m--> 295\u001b[0;31m                 \u001b[0mwaiter\u001b[0m\u001b[0;34m.\u001b[0m\u001b[0macquire\u001b[0m\u001b[0;34m(\u001b[0m\u001b[0;34m)\u001b[0m\u001b[0;34m\u001b[0m\u001b[0m\n\u001b[0m\u001b[1;32m    296\u001b[0m                 \u001b[0mgotit\u001b[0m \u001b[0;34m=\u001b[0m \u001b[0;32mTrue\u001b[0m\u001b[0;34m\u001b[0m\u001b[0m\n\u001b[1;32m    297\u001b[0m             \u001b[0;32melse\u001b[0m\u001b[0;34m:\u001b[0m\u001b[0;34m\u001b[0m\u001b[0m\n",
      "\u001b[0;31mKeyboardInterrupt\u001b[0m: "
     ]
    }
   ],
   "source": [
    "while True:\n",
    "    game = Game(4, random=False)\n",
    "    while not game.end:\n",
    "        mw.move(game)\n",
    "    print('score:',game.score, end='\\t')\n",
    "    mw.train(BATCH)\n",
    "    if(mw.trainning_step%10==0):\n",
    "        model.save('modelOL.h5')"
   ]
  },
  {
   "cell_type": "code",
   "execution_count": 5,
   "metadata": {},
   "outputs": [],
   "source": [
    "# 先填满内存\n",
    "while not mw.mem.ready(BATCH):\n",
    "    game = Game(4, random=False)\n",
    "    while not game.end:\n",
    "        mw.move(game)"
   ]
  },
  {
   "cell_type": "code",
   "execution_count": null,
   "metadata": {},
   "outputs": [],
   "source": [
    "def generate_data():\n",
    "    while True:\n",
    "        game = Game(4, random=False)\n",
    "        while not game.end:\n",
    "            mw.move(game)\n",
    "        print('score:',game.score, end='\\t')\n",
    "        X = []\n",
    "        Y = []\n",
    "        for guide in mw.mem.mem:\n",
    "            X.append(guide.state)\n",
    "            ohe_action = [0]*4\n",
    "            ohe_action[guide.action] = 1\n",
    "            Y.append(ohe_action)\n",
    "        yield np.array(X), np.array(Y)\n",
    "            \n",
    "model.fit_generator(generate_data(), steps_per_epoch=1, epochs=20)"
   ]
  },
  {
   "cell_type": "code",
   "execution_count": 46,
   "metadata": {},
   "outputs": [
    {
     "data": {
      "text/plain": [
       "7450"
      ]
     },
     "execution_count": 46,
     "metadata": {},
     "output_type": "execute_result"
    }
   ],
   "source": [
    "len(mw.mem.mem)"
   ]
  },
  {
   "cell_type": "code",
   "execution_count": null,
   "metadata": {},
   "outputs": [],
   "source": []
  },
  {
   "cell_type": "code",
   "execution_count": null,
   "metadata": {},
   "outputs": [],
   "source": []
  },
  {
   "cell_type": "markdown",
   "metadata": {},
   "source": [
    "# 测试分数"
   ]
  },
  {
   "cell_type": "code",
   "execution_count": 2,
   "metadata": {},
   "outputs": [],
   "source": [
    "from game2048.game import Game\n",
    "from game2048.displays import Display, IPythonDisplay\n",
    "from game2048.agents import Agent, RandomAgent, ExpectiMaxAgent\n",
    "# from game2048.displayer import Displayer\n",
    "display1 = Display()\n",
    "display2 = IPythonDisplay()"
   ]
  },
  {
   "cell_type": "code",
   "execution_count": null,
   "metadata": {},
   "outputs": [],
   "source": [
    "map_table = {2**i : i for i in range(1,CAND)}\n",
    "map_table[0] = 0\n",
    "\n",
    "class MyAgent(Agent):\n",
    "\n",
    "    def __init__(self, game, display=None):\n",
    "        super().__init__(game, display)\n",
    "        \n",
    "    def step(self):\n",
    "        x0 = np.array([ grid_one(vmap(game.board)) ])\n",
    "        preds = list(model.predict(x0))\n",
    "        direction = np.argmax(preds[0])\n",
    "        return direction\n"
   ]
  },
  {
   "cell_type": "code",
   "execution_count": null,
   "metadata": {},
   "outputs": [],
   "source": [
    "game = Game(4, random=False)\n",
    "agent = MyAgent(game, display=display1)\n",
    "agent.play()\n",
    "game.score"
   ]
  },
  {
   "cell_type": "code",
   "execution_count": null,
   "metadata": {},
   "outputs": [],
   "source": [
    "scores = []\n",
    "for i in range(10):\n",
    "    game = Game(4, random=False)\n",
    "    agent = MyAgent(game, display=display1)\n",
    "    agent.play()\n",
    "    scores.append(game.score)\n",
    "scores"
   ]
  },
  {
   "cell_type": "code",
   "execution_count": 45,
   "metadata": {},
   "outputs": [],
   "source": [
    "from game2048.game import Game\n",
    "from game2048.expectimax import board_to_move\n",
    "vd2 = np.vectorize(lambda x: int(x/2))"
   ]
  },
  {
   "cell_type": "code",
   "execution_count": 211,
   "metadata": {},
   "outputs": [
    {
     "name": "stdout",
     "output_type": "stream",
     "text": [
      "[[ 0.  0.  0.  0.]\n",
      " [ 0.  0.  0.  0.]\n",
      " [ 0.  0.  0.  4.]\n",
      " [ 0.  0.  0.  2.]]\n",
      "[[ 0.  0.  0.  0.]\n",
      " [ 0.  0.  4.  0.]\n",
      " [ 0.  0.  0.  4.]\n",
      " [ 4.  0.  0.  2.]]\n",
      "[[ 4.  0.  8.  4.]\n",
      " [ 0.  0.  0.  2.]\n",
      " [ 0.  0.  0.  2.]\n",
      " [ 0.  0.  0.  0.]]\n",
      "[[ 4.  8.  4.  0.]\n",
      " [ 2.  0.  0.  0.]\n",
      " [ 2.  0.  0.  0.]\n",
      " [ 0.  0.  0.  2.]]\n",
      "[[ 4.  8.  4.  0.]\n",
      " [ 2.  0.  0.  0.]\n",
      " [ 2.  0.  0.  2.]\n",
      " [ 2.  0.  0.  0.]]\n",
      "[[ 4.  2.  0.  0.]\n",
      " [ 2.  0.  0.  0.]\n",
      " [ 4.  0.  0.  0.]\n",
      " [ 2.  8.  4.  4.]]\n",
      "[[   0.    0.    0.    4.]\n",
      " [   2.    0.    0.    0.]\n",
      " [  16.    4.    0.    0.]\n",
      " [ 256.    4.    4.    0.]]\n",
      "[[   0.    0.    2.    0.]\n",
      " [   4.    0.    0.    0.]\n",
      " [  16.    0.    0.    0.]\n",
      " [ 256.    8.    4.    4.]]\n",
      "[[   8.    8.    0.    0.]\n",
      " [  16.    0.    0.    0.]\n",
      " [  32.   16.    4.    2.]\n",
      " [ 256.   32.    4.    0.]]\n",
      "[[   0.    0.    2.    0.]\n",
      " [   0.    0.    4.    0.]\n",
      " [   4.    8.    2.    2.]\n",
      " [ 256.  128.   64.   32.]]\n",
      "[[   0.    0.    2.    4.]\n",
      " [   0.    0.    4.    2.]\n",
      " [   8.    0.   64.    4.]\n",
      " [   8.   32.   32.  512.]]\n",
      "[[   0.    0.    0.    2.]\n",
      " [   0.    0.    4.    8.]\n",
      " [   0.    0.    8.    8.]\n",
      " [   4.   16.  128.  512.]]\n",
      "[[   2.    0.    4.    2.]\n",
      " [   0.    4.    2.    4.]\n",
      " [   2.   16.    8.   16.]\n",
      " [   4.   16.  128.  512.]]\n",
      "[[   2.    2.    8.    2.]\n",
      " [   0.    4.    4.   16.]\n",
      " [   8.    4.   16.   32.]\n",
      " [  16.   32.  128.  512.]]\n",
      "[[   0.    0.    0.    0.]\n",
      " [   0.    0.    2.    2.]\n",
      " [   2.    8.    4.    8.]\n",
      " [   8.   32.  256.  512.]]\n",
      "[[   0.    0.    2.    0.]\n",
      " [   2.    0.    4.    0.]\n",
      " [   8.    2.    2.    0.]\n",
      " [   8.   64.  256.  512.]]\n",
      "[[   0.    2.    2.    8.]\n",
      " [   0.    0.    4.   16.]\n",
      " [   2.    4.   16.   32.]\n",
      " [   4.  128.  256.  512.]]\n",
      "[[   2.    2.    8.    4.]\n",
      " [   0.    2.    8.    4.]\n",
      " [   2.    4.    8.   64.]\n",
      " [   8.  128.  256.  512.]]\n",
      "[[   2.    0.    2.    0.]\n",
      " [   0.    0.    8.    8.]\n",
      " [   4.    8.   16.   64.]\n",
      " [   8.  128.  256.  512.]]\n",
      "[[   0.    0.    0.    4.]\n",
      " [   2.    0.    0.    8.]\n",
      " [   4.    8.   32.   64.]\n",
      " [   8.  128.  256.  512.]]\n",
      "[[   4.    0.    0.    2.]\n",
      " [   2.    8.    0.    0.]\n",
      " [   4.    8.   32.   64.]\n",
      " [   8.  128.  256.  512.]]\n",
      "[[   8.    0.    2.    0.]\n",
      " [   2.    2.    2.    0.]\n",
      " [   4.   16.   32.   64.]\n",
      " [   8.  128.  256.  512.]]\n",
      "372\n"
     ]
    }
   ],
   "source": [
    "game = Game(4, random=False, score_to_win=1024)\n",
    "#game.enable_rewrite_board = True\n",
    "#cur_board = game.board\n",
    "count = 0\n",
    "err = []\n",
    "while not game.end:\n",
    "    d = board_to_move(game.board)\n",
    "    count += 1\n",
    "    cur_board = game.board\n",
    "    ds = []\n",
    "    for i in range(4):\n",
    "        ds.append(board_to_move(cur_board))\n",
    "        cur_board = np.rot90(cur_board)\n",
    "\n",
    "    if not (0 in ds and 1 in ds and 2 in ds and 3 in ds):\n",
    "        print(game.board)\n",
    "    game.move(d)\n",
    "print(count)"
   ]
  },
  {
   "cell_type": "code",
   "execution_count": 141,
   "metadata": {},
   "outputs": [
    {
     "name": "stdout",
     "output_type": "stream",
     "text": [
      "[[    4.     0.     0.     0.]\n",
      " [    4.     0.     0.     0.]\n",
      " [   16.     8.     8.     0.]\n",
      " [   32.   128.   512.  1024.]]\n",
      "0\n",
      "[[  2   0   0   0]\n",
      " [  2   0   0   0]\n",
      " [  8   4   4   0]\n",
      " [ 16  64 256 512]]\n",
      "1\n"
     ]
    }
   ],
   "source": [
    "print(cur_board)\n",
    "print(board_to_move(cur_board))\n",
    "print(vd2(cur_board))\n",
    "print(board_to_move(vd2(cur_board)))"
   ]
  },
  {
   "cell_type": "code",
   "execution_count": 118,
   "metadata": {},
   "outputs": [],
   "source": [
    "m2 = np.ones((4,4))*2"
   ]
  },
  {
   "cell_type": "code",
   "execution_count": 202,
   "metadata": {},
   "outputs": [
    {
     "name": "stdout",
     "output_type": "stream",
     "text": [
      "[[ 16 512 256   8]\n",
      " [256  64   4  64]\n",
      " [512 256  32   8]\n",
      " [ 32   8  64  64]]\n",
      "0\n",
      "3\n",
      "0\n",
      "3\n"
     ]
    }
   ],
   "source": [
    "game = Game(4, random=True)\n",
    "cur_board = game.board\n",
    "print(cur_board)\n",
    "for i in range(4):\n",
    "    print(board_to_move(cur_board))\n",
    "    cur_board = np.rot90(cur_board)\n"
   ]
  },
  {
   "cell_type": "code",
   "execution_count": 180,
   "metadata": {},
   "outputs": [
    {
     "data": {
      "text/plain": [
       "True"
      ]
     },
     "execution_count": 180,
     "metadata": {},
     "output_type": "execute_result"
    }
   ],
   "source": [
    "32 in game.board"
   ]
  },
  {
   "cell_type": "code",
   "execution_count": 205,
   "metadata": {},
   "outputs": [
    {
     "data": {
      "text/plain": [
       "585"
      ]
     },
     "execution_count": 205,
     "metadata": {},
     "output_type": "execute_result"
    }
   ],
   "source": []
  },
  {
   "cell_type": "code",
   "execution_count": null,
   "metadata": {},
   "outputs": [],
   "source": []
  }
 ],
 "metadata": {
  "kernelspec": {
   "display_name": "Python 3",
   "language": "python",
   "name": "python3"
  },
  "language_info": {
   "codemirror_mode": {
    "name": "ipython",
    "version": 3
   },
   "file_extension": ".py",
   "mimetype": "text/x-python",
   "name": "python",
   "nbconvert_exporter": "python",
   "pygments_lexer": "ipython3",
   "version": "3.6.6"
  }
 },
 "nbformat": 4,
 "nbformat_minor": 2
}
